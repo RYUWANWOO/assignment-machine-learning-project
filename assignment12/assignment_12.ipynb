{
  "nbformat": 4,
  "nbformat_minor": 0,
  "metadata": {
    "colab": {
      "name": "assignment_02.ipynb",
      "provenance": [],
      "collapsed_sections": [],
      "machine_shape": "hm"
    },
    "interpreter": {
      "hash": "17ed1555cfbb96ddcf655400d6c25a9cebe961c1b69daf25bae91d698acdd2a7"
    },
    "kernelspec": {
      "display_name": "Python 3.8.12 64-bit ('hsh': conda)",
      "name": "python3"
    },
    "language_info": {
      "codemirror_mode": {
        "name": "ipython",
        "version": 3
      },
      "file_extension": ".py",
      "mimetype": "text/x-python",
      "name": "python",
      "nbconvert_exporter": "python",
      "pygments_lexer": "ipython3",
      "version": "3.8.8"
    },
    "accelerator": "GPU"
  },
  "cells": [
    {
      "cell_type": "markdown",
      "metadata": {
        "id": "K29I-OwCEYzW",
        "outputId": "db8b297c-a4b8-457a-b43f-7570135306c7"
      },
      "source": [
        "# Image Generation via Generative Adversarial Networks"
      ]
    },
    {
      "cell_type": "markdown",
      "metadata": {
        "id": "v5P38PPoTtbV"
      },
      "source": [
        "## Connect Google Drive"
      ]
    },
    {
      "cell_type": "code",
      "metadata": {
        "colab": {
          "base_uri": "https://localhost:8080/"
        },
        "id": "IqGpP8LnTs-N",
        "outputId": "5dc321d9-6c09-4d28-ff5c-4697604ad7e0"
      },
      "source": [
        "from google.colab import drive\n",
        "drive.mount('/content/drive')"
      ],
      "execution_count": 1,
      "outputs": [
        {
          "output_type": "stream",
          "name": "stdout",
          "text": [
            "Mounted at /content/drive\n"
          ]
        }
      ]
    },
    {
      "cell_type": "markdown",
      "metadata": {
        "id": "2IEGBuxZTqin"
      },
      "source": [
        "## import libraries"
      ]
    },
    {
      "cell_type": "code",
      "metadata": {
        "id": "z3am27FqTqip"
      },
      "source": [
        "import torch\n",
        "import torch.nn as nn\n",
        "import torch.nn.functional as F\n",
        "import torchvision\n",
        "from torch.utils.data import Dataset\n",
        "from torch.utils.data import DataLoader\n",
        "from torchvision import datasets, transforms\n",
        "import numpy as np\n",
        "import matplotlib.pyplot as plt\n",
        "import math\n",
        "from tqdm import tqdm\n",
        "import random\n",
        "import os\n",
        "from torchvision.utils import make_grid"
      ],
      "execution_count": 2,
      "outputs": []
    },
    {
      "cell_type": "markdown",
      "metadata": {
        "id": "QwfhJScTTqiq"
      },
      "source": [
        "## load data"
      ]
    },
    {
      "cell_type": "code",
      "metadata": {
        "id": "gL6zqr8vTqis"
      },
      "source": [
        "directory_data  = 'drive/MyDrive'\n",
        "filename_data   = 'assignment_12_data.npz'\n",
        "data            = np.load(os.path.join(directory_data, filename_data))\n",
        "real            = torch.from_numpy(data['real_images']).float()"
      ],
      "execution_count": 38,
      "outputs": []
    },
    {
      "cell_type": "markdown",
      "metadata": {
        "id": "zYjwVPpmTqiu"
      },
      "source": [
        "## hyper-parameters"
      ]
    },
    {
      "cell_type": "code",
      "metadata": {
        "id": "akbMLC32Tqiv"
      },
      "source": [
        "device          = torch.device('cuda' if torch.cuda.is_available() else 'cpu')\n",
        "\n",
        "number_epoch    = 200\n",
        "size_minibatch  = 128\n",
        "dim_latent      = 100\n",
        "dim_channel     = 1\n",
        "learning_rate_discriminator = 0.001\n",
        "learning_rate_generator     = 0.001"
      ],
      "execution_count": 55,
      "outputs": []
    },
    {
      "cell_type": "markdown",
      "metadata": {
        "id": "OAbhXUw0Tqiw"
      },
      "source": [
        "## custom data loader for the PyTorch framework"
      ]
    },
    {
      "cell_type": "code",
      "metadata": {
        "id": "6D5Z3wlaTqiw"
      },
      "source": [
        "class dataset (Dataset):\n",
        "    def  __init__(self, data):\n",
        "\n",
        "        self.data = data\n",
        "\n",
        "    def __getitem__(self, index):\n",
        "\n",
        "        data = self.data[index]\n",
        "        data = torch.FloatTensor(data).unsqueeze(dim=0)\n",
        "\n",
        "        return data\n",
        "  \n",
        "    def __len__(self):\n",
        "        \n",
        "        return self.data.shape[0]"
      ],
      "execution_count": 56,
      "outputs": []
    },
    {
      "cell_type": "markdown",
      "metadata": {
        "id": "5y1BmmhTTqix"
      },
      "source": [
        "## construct datasets and dataloaders for training and testing"
      ]
    },
    {
      "cell_type": "code",
      "metadata": {
        "id": "zMITi81wTqiy"
      },
      "source": [
        "dataset_real    = dataset(real)\n",
        "dataloader_real = DataLoader(dataset_real, batch_size=size_minibatch, shuffle=True, drop_last=True)"
      ],
      "execution_count": 57,
      "outputs": []
    },
    {
      "cell_type": "markdown",
      "metadata": {
        "id": "4nztBqdUTqiy"
      },
      "source": [
        "## shape of the data when using the data loader"
      ]
    },
    {
      "cell_type": "code",
      "metadata": {
        "colab": {
          "base_uri": "https://localhost:8080/"
        },
        "id": "NFjgETC0Tqiz",
        "outputId": "38a1b15a-5e69-4f92-85f3-8de9c7f64f1c"
      },
      "source": [
        "image_real = dataset_real[0]\n",
        "print('*******************************************************************')\n",
        "print('shape of the image in the training dataset:', image_real.shape)\n",
        "print('*******************************************************************')"
      ],
      "execution_count": 58,
      "outputs": [
        {
          "output_type": "stream",
          "name": "stdout",
          "text": [
            "*******************************************************************\n",
            "shape of the image in the training dataset: torch.Size([1, 32, 32])\n",
            "*******************************************************************\n"
          ]
        }
      ]
    },
    {
      "cell_type": "markdown",
      "metadata": {
        "id": "XzXjitcSTqi1"
      },
      "source": [
        "## class for the neural network "
      ]
    },
    {
      "cell_type": "code",
      "metadata": {
        "id": "hENb9EowTqi1"
      },
      "source": [
        "class Discriminator(nn.Module): \n",
        "\n",
        "\tdef __init__(self, in_channel=1, out_channel=1, dim_feature=8):\n",
        "        \n",
        "\t\tsuper(Discriminator, self).__init__()\n",
        "\n",
        "\t\tself.in_channel \t= in_channel\n",
        "\t\tself.out_channel\t= out_channel\n",
        "\t\tself.dim_feature\t= dim_feature\n",
        "\t\tthreshold_ReLU \t\t= 0.2\n",
        "\t\t\n",
        "\t\tself.feature = nn.Sequential(\n",
        "\t\t\t# ================================================================================\n",
        "\t\t\tnn.Conv2d(in_channel, dim_feature * 1, kernel_size=3, stride=2, padding=1, bias=True),\n",
        "\t\t\tnn.LeakyReLU(threshold_ReLU, inplace=True),\t\t\t\n",
        "\t\t\t# ================================================================================\n",
        "\t\t\tnn.Conv2d(dim_feature * 1, dim_feature * 2, kernel_size=3, stride=2, padding=1, bias=True),\n",
        "\t\t\tnn.LeakyReLU(threshold_ReLU, inplace=True),\t\t\t\n",
        "\t\t\t# ================================================================================\n",
        "\t\t\tnn.Conv2d(dim_feature * 2, dim_feature * 4, kernel_size=3, stride=2, padding=1, bias=True),\n",
        "\t\t\tnn.LeakyReLU(threshold_ReLU, inplace=True),\t\t\t\n",
        "\t\t\t# ================================================================================\n",
        "\t\t\tnn.Conv2d(dim_feature * 4, dim_feature * 8, kernel_size=3, stride=2, padding=1, bias=True),\n",
        "\t\t\tnn.LeakyReLU(threshold_ReLU, inplace=True),\t\t\t\n",
        "\t\t\t# ================================================================================\n",
        "\t\t\tnn.Conv2d(dim_feature * 8, dim_feature * 16, kernel_size=3, stride=2, padding=1, bias=True),\n",
        "\t\t\tnn.LeakyReLU(threshold_ReLU, inplace=True),\t\t\t\n",
        "\t\t\t# ================================================================================\n",
        "\t\t)\t\n",
        "\t\t\n",
        "\t\tself.classifier = nn.Sequential(\n",
        "\t\t\t# ================================================================================\n",
        "\t\t\tnn.Linear(dim_feature * 16, dim_feature * 8, bias=True),\n",
        "\t\t\tnn.LeakyReLU(threshold_ReLU, inplace=True),\t\t\t\n",
        "\t\t\t# ================================================================================\n",
        "\t\t\tnn.Linear(dim_feature * 8, dim_feature * 4, bias=True),\n",
        "\t\t\tnn.LeakyReLU(threshold_ReLU, inplace=True),\t\t\t\n",
        "\t\t\t# ================================================================================\n",
        "\t\t\tnn.Linear(dim_feature * 4, dim_feature * 2, bias=True),\n",
        "\t\t\tnn.LeakyReLU(threshold_ReLU, inplace=True),\t\t\t\n",
        "\t\t\t# ================================================================================\n",
        "\t\t\tnn.Linear(dim_feature * 2, dim_feature * 1, bias=True),\n",
        "\t\t\tnn.LeakyReLU(threshold_ReLU, inplace=True),\t\t\t\n",
        "\t\t\t# ================================================================================\n",
        "\t\t\tnn.Linear(dim_feature * 1, out_channel, bias=True),\n",
        "\t\t\t# ================================================================================\n",
        "\t\t) \n",
        "\n",
        "\t\tself.network = nn.Sequential(\n",
        "\t\t\tself.feature,\n",
        "\t\t\tnn.Flatten(),\n",
        "\t\t\tself.classifier,\n",
        "\t\t)\n",
        "\n",
        "\t\tself.initialize_weight()\n",
        "\n",
        "\t\t# *********************************************************************\n",
        "\t\t# forward propagation\n",
        "\t\t# *********************************************************************\n",
        "\tdef forward(self, x):\n",
        "\n",
        "\t\ty = self.network.forward(x)\n",
        "\n",
        "\t\treturn y\n",
        "\n",
        "\tdef initialize_weight(self):\n",
        "\t\n",
        "\t\tprint('initialize model parameters :', 'xavier_uniform')\n",
        "\n",
        "\t\tfor m in self.network.modules():\n",
        "\t\t\t\n",
        "\t\t\tif isinstance(m, nn.Conv2d):\n",
        "\t\t\t\t\n",
        "\t\t\t\tnn.init.xavier_uniform_(m.weight)\n",
        "\t\t\t\t\n",
        "\t\t\t\tif m.bias is not None:\n",
        "\n",
        "\t\t\t\t\tnn.init.constant_(m.bias, 1)\n",
        "\t\t\t\t\tpass\n",
        "\t\t\t\t\t\n",
        "\t\t\telif isinstance(m, nn.BatchNorm2d):\n",
        "\t\t\t\t\n",
        "\t\t\t\tnn.init.constant_(m.weight, 1)\n",
        "\t\t\t\tnn.init.constant_(m.bias, 1)\n",
        "\t\t\t\t\n",
        "\t\t\telif isinstance(m, nn.Linear):\n",
        "\t\t\t\t\n",
        "\t\t\t\tnn.init.xavier_uniform_(m.weight)\n",
        "\n",
        "\t\t\t\tif m.bias is not None:\n",
        "\t\t\t\t\t\n",
        "\t\t\t\t\tnn.init.constant_(m.bias, 1)\n",
        "\t\t\t\t\tpass"
      ],
      "execution_count": 59,
      "outputs": []
    },
    {
      "cell_type": "code",
      "metadata": {
        "id": "eYOT9fLvTqi3"
      },
      "source": [
        "class Generator(nn.Module): \n",
        "\n",
        "\tdef __init__(self, in_channel=1, out_channel=1, dim_feature=8):\n",
        "        \n",
        "\t\tsuper(Generator, self).__init__()\n",
        "\n",
        "\t\tself.in_channel \t= in_channel\n",
        "\t\tself.out_channel\t= out_channel\n",
        "\t\tself.dim_feature\t= dim_feature\n",
        "\t\tthreshold_ReLU \t\t= 0.2\n",
        "\n",
        "\t\tself.network = nn.Sequential(\n",
        "\t\t\t# ================================================================================\n",
        "\t\t\tnn.Upsample(scale_factor=2, mode='bilinear', align_corners=False),\n",
        "\t\t\tnn.Conv2d(in_channel, dim_feature * 8, kernel_size=3, stride=1, padding=1, bias=True),\n",
        "\t\t\tnn.BatchNorm2d(dim_feature * 8),\n",
        "\t\t\tnn.LeakyReLU(threshold_ReLU, inplace=True),\n",
        "\t\t\t# ================================================================================\n",
        "\t\t\tnn.Upsample(scale_factor=2, mode='bilinear', align_corners=False),\n",
        "\t\t\tnn.Conv2d(dim_feature * 8, dim_feature * 4, kernel_size=3, stride=1, padding=1, bias=True),\n",
        "\t\t\tnn.BatchNorm2d(dim_feature * 4),\n",
        "\t\t\tnn.LeakyReLU(threshold_ReLU, inplace=True),\n",
        "\t\t\t# ================================================================================\n",
        "\t\t\tnn.Upsample(scale_factor=2, mode='bilinear', align_corners=False),\n",
        "\t\t\tnn.Conv2d(dim_feature * 4, dim_feature * 2, kernel_size=3, stride=1, padding=1, bias=True),\n",
        "\t\t\tnn.BatchNorm2d(dim_feature * 2),\n",
        "\t\t\tnn.LeakyReLU(threshold_ReLU, inplace=True),\n",
        "\t\t\t# ================================================================================\n",
        "\t\t\tnn.Upsample(scale_factor=2, mode='bilinear', align_corners=False),\n",
        "\t\t\tnn.Conv2d(dim_feature * 2, dim_feature * 1, kernel_size=3, stride=1, padding=1, bias=True),\n",
        "\t\t\tnn.BatchNorm2d(dim_feature * 1),\n",
        "\t\t\tnn.LeakyReLU(threshold_ReLU, inplace=True),\n",
        "\t\t\t# ================================================================================\n",
        "\t\t\tnn.Upsample(scale_factor=2, mode='bilinear', align_corners=False),\n",
        "\t\t\tnn.Conv2d(dim_feature * 1, out_channel, kernel_size=3, stride=1, padding=1, bias=True),\n",
        "\t\t\tnn.BatchNorm2d(out_channel),\n",
        "\t\t\t# ================================================================================\n",
        "\t\t\tnn.Sigmoid(),\n",
        "\t\t\t# ================================================================================\n",
        "\t\t) \t\t\t\n",
        "\n",
        "\t\tself.initialize_weight()\n",
        "\t\t\n",
        "\t\t# *********************************************************************\n",
        "\t\t# forward propagation\n",
        "\t\t# *********************************************************************\n",
        "\tdef forward(self, x):\n",
        "\n",
        "\t\ty = self.network.forward(x)\n",
        "\n",
        "\t\treturn y\n",
        "\n",
        "\tdef initialize_weight(self):\n",
        "\t\n",
        "\t\tprint('initialize model parameters :', 'xavier_uniform')\n",
        "\n",
        "\t\tfor m in self.network.modules():\n",
        "\t\t\t\n",
        "\t\t\tif isinstance(m, nn.Conv2d):\n",
        "\t\t\t\t\n",
        "\t\t\t\tnn.init.xavier_uniform_(m.weight)\n",
        "\t\t\t\t\n",
        "\t\t\t\tif m.bias is not None:\n",
        "\n",
        "\t\t\t\t\tnn.init.constant_(m.bias, 1)\n",
        "\t\t\t\t\tpass\n",
        "\t\t\t\t\t\n",
        "\t\t\telif isinstance(m, nn.BatchNorm2d):\n",
        "\t\t\t\t\n",
        "\t\t\t\tnn.init.constant_(m.weight, 1)\n",
        "\t\t\t\tnn.init.constant_(m.bias, 1)\n",
        "\t\t\t\t\n",
        "\t\t\telif isinstance(m, nn.Linear):\n",
        "\t\t\t\t\n",
        "\t\t\t\tnn.init.xavier_uniform_(m.weight)\n",
        "\n",
        "\t\t\t\tif m.bias is not None:\n",
        "\t\t\t\t\t\n",
        "\t\t\t\t\tnn.init.constant_(m.bias, 1)\n",
        "\t\t\t\t\tpass\n"
      ],
      "execution_count": 60,
      "outputs": []
    },
    {
      "cell_type": "markdown",
      "metadata": {
        "id": "JsAn-SvjTqi4"
      },
      "source": [
        "## build network"
      ]
    },
    {
      "cell_type": "code",
      "metadata": {
        "colab": {
          "base_uri": "https://localhost:8080/"
        },
        "id": "IfvGNQ9CTqi4",
        "outputId": "ffd3d528-d855-4eb1-da7d-75c9faa49482"
      },
      "source": [
        "generator       = Generator(dim_latent, 1, 8).to(device)\n",
        "discriminator   = Discriminator(dim_channel, 1, 8).to(device)\n",
        "\n",
        "optimizer_generator     = torch.optim.Adam(generator.parameters(), lr=learning_rate_generator, betas=(0.5, 0.999))\n",
        "optimizer_discriminator = torch.optim.Adam(discriminator.parameters(), lr=learning_rate_discriminator, betas=(0.5, 0.999))"
      ],
      "execution_count": 61,
      "outputs": [
        {
          "output_type": "stream",
          "name": "stdout",
          "text": [
            "initialize model parameters : xavier_uniform\n",
            "initialize model parameters : xavier_uniform\n"
          ]
        }
      ]
    },
    {
      "cell_type": "markdown",
      "metadata": {
        "id": "ung8t8KTTqi5"
      },
      "source": [
        "## compute the prediction"
      ]
    },
    {
      "cell_type": "code",
      "metadata": {
        "id": "HxuG6zBzTqi6"
      },
      "source": [
        "def compute_prediction(model, input):\n",
        "\n",
        "    prediction = model(input)\n",
        "\n",
        "    return prediction"
      ],
      "execution_count": 62,
      "outputs": []
    },
    {
      "cell_type": "markdown",
      "metadata": {
        "id": "GnQh9pHlTqi6"
      },
      "source": [
        "## compute the loss"
      ]
    },
    {
      "cell_type": "code",
      "metadata": {
        "id": "fl1n1HbzTqi7"
      },
      "source": [
        "def compute_loss_discriminator(generator, discriminator, latent, data_real):\n",
        "\n",
        "    data_fake       = compute_prediction(generator, latent)\n",
        "    prediction_real = compute_prediction(discriminator, data_real)\n",
        "    prediction_fake = compute_prediction(discriminator, data_fake)\n",
        "\n",
        "    criterion   = nn.BCEWithLogitsLoss()\n",
        "    \n",
        "    label_real  = torch.ones_like(prediction_real)\n",
        "    label_fake  = torch.zeros_like(prediction_fake)\n",
        "\n",
        "    # ==================================================\n",
        "    # fill up the blank\n",
        "    #    \n",
        "    loss_real = criterion(prediction_real, label_real)\n",
        "    loss_fake = criterion(prediction_fake, label_fake)\n",
        "    # \n",
        "    # ==================================================\n",
        "\n",
        "    loss_discriminator = (loss_real + loss_fake) / 2.0\n",
        "\n",
        "    return loss_discriminator"
      ],
      "execution_count": 63,
      "outputs": []
    },
    {
      "cell_type": "code",
      "metadata": {
        "id": "SbRAzmRDTqi7"
      },
      "source": [
        "def compute_loss_generator(generator, discriminator, latent):\n",
        "\n",
        "    data_fake       = compute_prediction(generator, latent)\n",
        "    prediction_fake = compute_prediction(discriminator, data_fake)\n",
        "\n",
        "    criterion       = nn.BCEWithLogitsLoss()\n",
        "\n",
        "    label_real      = torch.ones_like(prediction_fake)\n",
        "\n",
        "    # ==================================================\n",
        "    # fill up the blank\n",
        "    #    \n",
        "    loss_generator  = criterion(prediction_fake, label_real)\n",
        "    # \n",
        "    # ==================================================\n",
        "\n",
        "    return loss_generator"
      ],
      "execution_count": 64,
      "outputs": []
    },
    {
      "cell_type": "markdown",
      "metadata": {
        "id": "P4ZNMGuRTqi8"
      },
      "source": [
        "## compute the accuracy"
      ]
    },
    {
      "cell_type": "code",
      "metadata": {
        "id": "FrvFb0meTqi8"
      },
      "source": [
        "def get_center_index(binary_image):\n",
        "    \n",
        "    area_square = np.sum(binary_image)\n",
        "\n",
        "    height = binary_image.shape[0]\n",
        "    width = binary_image.shape[1]\n",
        "\n",
        "    x = np.linspace(0, width - 1, width)\n",
        "    y = np.linspace(0, height - 1, height)\n",
        "    indices_X, indices_Y = np.meshgrid(x, y)\n",
        "\n",
        "    x_mean = np.sum(binary_image * indices_X) / area_square\n",
        "    y_mean = np.sum(binary_image * indices_Y) / area_square\n",
        "\n",
        "    return (x_mean, y_mean)"
      ],
      "execution_count": 65,
      "outputs": []
    },
    {
      "cell_type": "code",
      "metadata": {
        "id": "P0BohwE0Tqi8"
      },
      "source": [
        "# create ideal square image which has the same area to the input image\n",
        "def create_label(binary_images):\n",
        "    \n",
        "    label = np.zeros_like(binary_images)\n",
        "    \n",
        "    for i, binary_image in enumerate(binary_images):\n",
        "        \n",
        "        image_height = binary_image.shape[0]\n",
        "        image_width = binary_image.shape[1]\n",
        "\n",
        "        square_image = np.zeros((image_height, image_width))\n",
        "        square_length = np.round(np.sqrt(np.sum(binary_image)))\n",
        "\n",
        "        if square_length == 0:\n",
        "            # when there is no square\n",
        "            return square_image\n",
        "\n",
        "        (square_center_x, square_center_y) = get_center_index(binary_image)\n",
        "\n",
        "        if square_center_x < 0 or square_center_x > image_width - 1 or square_center_y < 0 or square_center_y > image_height - 1:\n",
        "            return square_image\n",
        "\n",
        "        top = np.ceil(square_center_y - square_length / 2)\n",
        "        bottom = np.floor(square_center_y + square_length / 2)\n",
        "        left = np.ceil(square_center_x - square_length / 2)\n",
        "        right = np.floor(square_center_x + square_length / 2)\n",
        "\n",
        "        top = int(top) if top >= 0 else 0\n",
        "        bottom = int(bottom) if bottom <= image_height - 1 else image_height - 1\n",
        "        left = int(left) if left >= 0 else 0\n",
        "        right = int(right) if right <= image_width - 1 else image_width - 1\n",
        "\n",
        "        square_image[top : bottom + 1, left : right + 1] = 1\n",
        "        \n",
        "        label[i] = square_image\n",
        "        \n",
        "    return label"
      ],
      "execution_count": 66,
      "outputs": []
    },
    {
      "cell_type": "code",
      "metadata": {
        "id": "LebJL20mTqi9"
      },
      "source": [
        "def compute_accuracy(prediction):\n",
        "\n",
        "    prediction  = prediction.squeeze(axis=1)\n",
        "    \n",
        "    prediction_binary   = (prediction >= 0.5).cpu().numpy().astype(int)\n",
        "    label               = create_label(prediction_binary).astype(int)\n",
        "    \n",
        "    region_intersection = prediction_binary & label\n",
        "    region_union        = prediction_binary | label\n",
        "\n",
        "    area_intersection   = region_intersection.sum(axis=1).sum(axis=1).astype(float)\n",
        "    area_union          = region_union.sum(axis=1).sum(axis=1).astype(float)\n",
        "\n",
        "    eps         = np.finfo(float).eps\n",
        "    correct     = area_intersection / (area_union + eps)\n",
        "    accuracy    = correct.mean() * 100.0\n",
        "    \n",
        "    return accuracy"
      ],
      "execution_count": 67,
      "outputs": []
    },
    {
      "cell_type": "markdown",
      "metadata": {
        "id": "kdQNoIcCTqi9"
      },
      "source": [
        "## variables for the learning curve"
      ]
    },
    {
      "cell_type": "code",
      "metadata": {
        "id": "FvGhoNw1Tqi9"
      },
      "source": [
        "loss_generator_mean     = np.zeros(number_epoch)\n",
        "loss_generator_std      = np.zeros(number_epoch)\n",
        "loss_discriminator_mean = np.zeros(number_epoch)\n",
        "loss_discriminator_std  = np.zeros(number_epoch)\n",
        "\n",
        "accuracy_mean   = np.zeros(number_epoch)\n",
        "accuracy_std    = np.zeros(number_epoch)"
      ],
      "execution_count": 68,
      "outputs": []
    },
    {
      "cell_type": "markdown",
      "metadata": {
        "id": "WORzkiSsTqi-"
      },
      "source": [
        "## train"
      ]
    },
    {
      "cell_type": "code",
      "metadata": {
        "id": "z-Rq78DpTqi-"
      },
      "source": [
        "def train(generator, discriminator, dataloader):\n",
        "\n",
        "    loss_epoch_generator      = []\n",
        "    loss_epoch_discriminator  = []\n",
        "    accuracy_epoch = []\n",
        "    \n",
        "    for index_batch, data_real in enumerate(dataloader):\n",
        "\n",
        "        size_batch  = len(data_real)\n",
        "        data_real   = data_real.to(device)\n",
        "        \n",
        "        latent  = torch.randn(size_batch, dim_latent, device=device)\n",
        "        latent  = torch.reshape(latent, [size_batch, dim_latent, 1, 1])\n",
        "\n",
        "        # ---------------------------------------------------------------------------\n",
        "        #  \n",
        "        # update the generator\n",
        "        #  \n",
        "        # ---------------------------------------------------------------------------\n",
        "        generator.train()\n",
        "        discriminator.eval()\n",
        "\n",
        "        optimizer_generator.zero_grad()\n",
        "        loss_generator = compute_loss_generator(generator, discriminator, latent)\n",
        "        loss_generator.backward()\n",
        "        optimizer_generator.step()\n",
        "\n",
        "        # ---------------------------------------------------------------------------\n",
        "        #  \n",
        "        # update the discriminator\n",
        "        #  \n",
        "        # ---------------------------------------------------------------------------\n",
        "        generator.eval()\n",
        "        discriminator.train()\n",
        "\n",
        "        optimizer_discriminator.zero_grad()\n",
        "        loss_discriminator = compute_loss_discriminator(generator, discriminator, latent, data_real)\n",
        "        loss_discriminator.backward()\n",
        "        optimizer_discriminator.step()\n",
        "\n",
        "        data_fake   = compute_prediction(generator, latent)\n",
        "        accuracy    = compute_accuracy(data_fake)\n",
        "\n",
        "        loss_epoch_generator.append(loss_generator.item())\n",
        "        loss_epoch_discriminator.append(loss_discriminator.item())\n",
        "        accuracy_epoch.append(accuracy)\n",
        "\n",
        "    loss_generator_mean_epoch       = np.mean(loss_epoch_generator)\n",
        "    loss_generator_std_epoch        = np.std(loss_epoch_generator)\n",
        "    \n",
        "    loss_discriminator_mean_epoch   = np.mean(loss_epoch_discriminator)\n",
        "    loss_discriminator_std_epoch    = np.std(loss_epoch_discriminator)\n",
        "\n",
        "    accuracy_mean_epoch             = np.mean(accuracy_epoch)\n",
        "    accuracy_std_epoch              = np.std(accuracy_epoch)\n",
        "\n",
        "    loss_value_generator        = {'mean' : loss_generator_mean_epoch, 'std' : loss_generator_std_epoch}\n",
        "    loss_value_discriminator    = {'mean' : loss_discriminator_mean_epoch, 'std' : loss_discriminator_std_epoch}\n",
        "    accuracy_value              = {'mean' : accuracy_mean_epoch, 'std' : accuracy_std_epoch} \n",
        "\n",
        "    return loss_value_generator, loss_value_discriminator, accuracy_value\n"
      ],
      "execution_count": 69,
      "outputs": []
    },
    {
      "cell_type": "markdown",
      "metadata": {
        "id": "E8_PhoPHTqi_"
      },
      "source": [
        "## training epoch"
      ]
    },
    {
      "cell_type": "code",
      "metadata": {
        "colab": {
          "base_uri": "https://localhost:8080/"
        },
        "id": "-pFDprzfTqi_",
        "outputId": "aacef09e-a353-4218-dc9a-2361e4b1faaf"
      },
      "source": [
        "# ================================================================================\n",
        "# \n",
        "# iterations for epochs\n",
        "#\n",
        "# ================================================================================\n",
        "for i in tqdm(range(number_epoch)):\n",
        "    \n",
        "    # ================================================================================\n",
        "    # \n",
        "    # training\n",
        "    #\n",
        "    # ================================================================================\n",
        "    (loss_value_generator, loss_value_discriminator, accuracy_value) = train(generator, discriminator, dataloader_real)\n",
        "\n",
        "    loss_generator_mean[i]      = loss_value_generator['mean']\n",
        "    loss_generator_std[i]       = loss_value_generator['std']\n",
        "\n",
        "    loss_discriminator_mean[i]  = loss_value_discriminator['mean']\n",
        "    loss_discriminator_std[i]   = loss_value_discriminator['std']\n",
        "\n",
        "    accuracy_mean[i]            = accuracy_value['mean']\n",
        "    accuracy_std[i]             = accuracy_value['std']"
      ],
      "execution_count": 70,
      "outputs": [
        {
          "output_type": "stream",
          "name": "stderr",
          "text": [
            "100%|██████████| 200/200 [05:56<00:00,  1.78s/it]\n"
          ]
        }
      ]
    },
    {
      "cell_type": "markdown",
      "metadata": {
        "id": "QhQzGRLbTqjA"
      },
      "source": [
        "---"
      ]
    },
    {
      "cell_type": "markdown",
      "metadata": {
        "id": "CplDInm3TqjB"
      },
      "source": [
        "# functions for visualizing the results "
      ]
    },
    {
      "cell_type": "markdown",
      "metadata": {
        "id": "J03Ygzt1TqjC"
      },
      "source": [
        "---"
      ]
    },
    {
      "cell_type": "markdown",
      "metadata": {
        "id": "ttLbsNI2TqjD"
      },
      "source": [
        "## plot curve"
      ]
    },
    {
      "cell_type": "markdown",
      "metadata": {
        "id": "PkEYWt6XTqjD"
      },
      "source": [
        ""
      ]
    },
    {
      "cell_type": "code",
      "metadata": {
        "id": "niF1y503TqjD"
      },
      "source": [
        "def plot_image_grid(data, nRow, nCol, filename=None):\n",
        "\n",
        "    size_col = 1.5\n",
        "    size_row = 1.5\n",
        "\n",
        "    fig, axes = plt.subplots(nRow, nCol, constrained_layout=True, figsize=(nCol * size_col, nRow * size_row))\n",
        "    \n",
        "    data = data.detach().cpu()\n",
        "\n",
        "    for i in range(nRow):\n",
        "        for j in range(nCol):\n",
        "\n",
        "            k       = i * nCol + j\n",
        "            image   = np.squeeze(data[k], axis=0)\n",
        "\n",
        "            axes[i, j].imshow(image, cmap='gray', vmin=0, vmax=1)\n",
        "            axes[i, j].xaxis.set_visible(False)\n",
        "            axes[i, j].yaxis.set_visible(False)\n",
        "\n",
        "    plt.show()\n",
        "\n",
        "    if filename is not None:\n",
        "\n",
        "        fig.savefig(filename)\n",
        "        pass"
      ],
      "execution_count": 71,
      "outputs": []
    },
    {
      "cell_type": "code",
      "metadata": {
        "id": "t7TiKi9lTqjE"
      },
      "source": [
        "def plot_data_grid(data, index_data, nRow, nCol):\n",
        "    \n",
        "    size_col = 1.5\n",
        "    size_row = 1.5\n",
        "\n",
        "    fig, axes = plt.subplots(nRow, nCol, constrained_layout=True, figsize=(nCol * size_col, nRow * size_row))\n",
        "\n",
        "    for i in range(nRow):\n",
        "        for j in range(nCol):\n",
        "\n",
        "            k       = i * nCol + j\n",
        "            index   = index_data[k]\n",
        "\n",
        "            axes[i, j].imshow(data[index], cmap='gray', vmin=0, vmax=1)\n",
        "            axes[i, j].xaxis.set_visible(False)\n",
        "            axes[i, j].yaxis.set_visible(False)\n",
        "\n",
        "    plt.show()"
      ],
      "execution_count": 72,
      "outputs": []
    },
    {
      "cell_type": "code",
      "metadata": {
        "id": "m14475XqTqjE"
      },
      "source": [
        "def plot_data_tensor_grid(data, index_data, nRow, nCol):\n",
        "    \n",
        "    size_col = 1.5\n",
        "    size_row = 1.5\n",
        "\n",
        "    fig, axes = plt.subplots(nRow, nCol, constrained_layout=True, figsize=(nCol * size_col, nRow * size_row))\n",
        "\n",
        "    data = data.detach().cpu().squeeze(axis=1)\n",
        "\n",
        "    for i in range(nRow):\n",
        "        for j in range(nCol):\n",
        "\n",
        "            k       = i * nCol + j\n",
        "            index   = index_data[k]\n",
        "\n",
        "            axes[i, j].imshow(data[index], cmap='gray', vmin=0, vmax=1)\n",
        "            axes[i, j].xaxis.set_visible(False)\n",
        "            axes[i, j].yaxis.set_visible(False)\n",
        "\n",
        "    plt.show()"
      ],
      "execution_count": 73,
      "outputs": []
    },
    {
      "cell_type": "code",
      "metadata": {
        "id": "fO38alEJTqjE"
      },
      "source": [
        "def plot_curve_error(data_mean, data_std, x_label, y_label, title, filename=None):\n",
        "\n",
        "    fig = plt.figure(figsize=(8, 6))\n",
        "    plt.title(title)\n",
        "\n",
        "    alpha = 0.3\n",
        "    \n",
        "    plt.plot(range(len(data_mean)), data_mean, '-', color = 'red')\n",
        "    plt.fill_between(range(len(data_mean)), data_mean - data_std, data_mean + data_std, facecolor = 'blue', alpha = alpha) \n",
        "    \n",
        "    plt.xlabel(x_label)\n",
        "    plt.ylabel(y_label)\n",
        "\n",
        "    plt.tight_layout()\n",
        "    plt.show()\n",
        "\n",
        "    if filename is not None:\n",
        "\n",
        "        fig.savefig(filename)\n",
        "        pass"
      ],
      "execution_count": 74,
      "outputs": []
    },
    {
      "cell_type": "code",
      "metadata": {
        "id": "ygtIkNXUTqjF"
      },
      "source": [
        "def print_curve(data, index):\n",
        "    \n",
        "    for i in range(len(index)):\n",
        "\n",
        "        idx = index[i]\n",
        "        val = data[idx]\n",
        "\n",
        "        print('index = %2d, value = %12.10f' % (idx, val))"
      ],
      "execution_count": 75,
      "outputs": []
    },
    {
      "cell_type": "code",
      "metadata": {
        "id": "gw6qYyFATqjG"
      },
      "source": [
        "def get_data_last(data, index_start):\n",
        "\n",
        "    data_last = data[index_start:]\n",
        "\n",
        "    return data_last"
      ],
      "execution_count": 76,
      "outputs": []
    },
    {
      "cell_type": "code",
      "metadata": {
        "id": "NbWuETicTqjG"
      },
      "source": [
        "def get_max_last_range(data, index_start):\n",
        "\n",
        "    data_range = get_data_last(data, index_start)\n",
        "    value = data_range.max()\n",
        "\n",
        "    return value"
      ],
      "execution_count": 77,
      "outputs": []
    },
    {
      "cell_type": "code",
      "metadata": {
        "id": "GFpdyCzHTqjG"
      },
      "source": [
        "def get_min_last_range(data, index_start):\n",
        "\n",
        "    data_range = get_data_last(data, index_start)\n",
        "    value = data_range.min()\n",
        "\n",
        "    return value"
      ],
      "execution_count": 78,
      "outputs": []
    },
    {
      "cell_type": "markdown",
      "metadata": {
        "id": "L7Pz9xv6TqjH"
      },
      "source": [
        "---"
      ]
    },
    {
      "cell_type": "markdown",
      "metadata": {
        "id": "mcA3dB1ITqjH"
      },
      "source": [
        "# functions for presenting the results"
      ]
    },
    {
      "cell_type": "markdown",
      "metadata": {
        "id": "j4NmvoykTqjH"
      },
      "source": [
        "---"
      ]
    },
    {
      "cell_type": "code",
      "metadata": {
        "id": "6a_4Gpi8TqjH"
      },
      "source": [
        "def function_result_01():\n",
        "\n",
        "    print('[plot examples of the real images]')\n",
        "    print('') \n",
        "\n",
        "    nRow = 8\n",
        "    nCol = 6\n",
        "\n",
        "    number_data = len(dataset_real)\n",
        "    step        = np.floor(number_data / (nRow * nCol))\n",
        "    index_data  = np.arange(0, number_data, step)\n",
        "    index_plot  = np.arange(0, nRow * nCol)\n",
        "\n",
        "    data = dataset_real[index_data]\n",
        "    data = data[0]\n",
        "    \n",
        "    plot_data_grid(data, index_plot, nRow, nCol)"
      ],
      "execution_count": 79,
      "outputs": []
    },
    {
      "cell_type": "code",
      "metadata": {
        "id": "fDC_LtEHTqjH"
      },
      "source": [
        "def function_result_02():\n",
        "\n",
        "    print('[plot examples of the fake images]')\n",
        "    print('') \n",
        "\n",
        "    nRow = 8\n",
        "    nCol = 6\n",
        "    number_latent = nRow * nCol\n",
        "\n",
        "    latent  = torch.randn(number_latent, dim_latent, device=device)\n",
        "    latent  = torch.reshape(latent, [number_latent, dim_latent, 1, 1])\n",
        "\n",
        "    generator.eval()\n",
        "\n",
        "    data_fake   = generator(latent)\n",
        "    filename    = 'fake_image.png'\n",
        "\n",
        "    plot_image_grid(data_fake, nRow, nCol, filename)"
      ],
      "execution_count": 80,
      "outputs": []
    },
    {
      "cell_type": "code",
      "metadata": {
        "id": "EcokBvw4TqjI"
      },
      "source": [
        "def function_result_03():\n",
        "\n",
        "    print('[plot the generator loss]')\n",
        "    print('') \n",
        "\n",
        "    plot_curve_error(loss_generator_mean, loss_generator_std, 'epoch', 'loss', 'generator loss', 'loss_generator.png')"
      ],
      "execution_count": 81,
      "outputs": []
    },
    {
      "cell_type": "code",
      "metadata": {
        "id": "U7NSrCGCTqjI"
      },
      "source": [
        "def function_result_04():\n",
        "    \n",
        "    print('[plot the discriminator loss]')\n",
        "    print('') \n",
        "    \n",
        "    plot_curve_error(loss_discriminator_mean, loss_discriminator_std, 'epoch', 'loss', 'discriminator loss', 'loss_discriminator.png')"
      ],
      "execution_count": 82,
      "outputs": []
    },
    {
      "cell_type": "code",
      "metadata": {
        "id": "s4-LFcB0TqjI"
      },
      "source": [
        "def function_result_05():\n",
        "    \n",
        "    print('[plot the accuracy]')\n",
        "    print('') \n",
        "    \n",
        "    plot_curve_error(accuracy_mean, accuracy_std, 'epoch', 'accuracy', 'training accuracy', 'training_accuracy.png')"
      ],
      "execution_count": 83,
      "outputs": []
    },
    {
      "cell_type": "code",
      "metadata": {
        "id": "oM8sCfBWTqjI"
      },
      "source": [
        "def function_result_06():\n",
        "    \n",
        "    print('[print the generator loss at the last 10 epochs]')\n",
        "    print('') \n",
        "\n",
        "    data_last = get_data_last(loss_generator_mean, -10)\n",
        "    index = np.arange(0, 10)\n",
        "    print_curve(data_last, index)"
      ],
      "execution_count": 84,
      "outputs": []
    },
    {
      "cell_type": "code",
      "metadata": {
        "id": "1mw5tpMvTqjJ"
      },
      "source": [
        "def function_result_07():\n",
        "    \n",
        "    print('[print the discriminator loss at the last 10 epochs]')\n",
        "    print('') \n",
        "\n",
        "    data_last = get_data_last(loss_discriminator_mean, -10)\n",
        "    index = np.arange(0, 10)\n",
        "    print_curve(data_last, index)"
      ],
      "execution_count": 85,
      "outputs": []
    },
    {
      "cell_type": "code",
      "metadata": {
        "id": "YExFufcfTqjJ"
      },
      "source": [
        "def function_result_08():\n",
        "    \n",
        "    print('[print the accuracy at the last 10 epochs]')\n",
        "    print('') \n",
        "\n",
        "    data_last = get_data_last(accuracy_mean, -10)\n",
        "    index = np.arange(0, 10)\n",
        "    print_curve(data_last, index)"
      ],
      "execution_count": 86,
      "outputs": []
    },
    {
      "cell_type": "code",
      "metadata": {
        "id": "YFNA2w_gTqjJ"
      },
      "source": [
        "def function_result_09():\n",
        "    \n",
        "    print('[print the best accuracy within the last 10 epochs]')\n",
        "    print('') \n",
        "    \n",
        "    value = get_max_last_range(accuracy_mean, -10)\n",
        "    print('best accuracy = %12.10f' % (value))"
      ],
      "execution_count": 87,
      "outputs": []
    },
    {
      "cell_type": "markdown",
      "metadata": {
        "id": "IrEjhzVuTqjJ"
      },
      "source": [
        "---"
      ]
    },
    {
      "cell_type": "markdown",
      "metadata": {
        "id": "tXQPCgRdTqjJ"
      },
      "source": [
        "# RESULTS"
      ]
    },
    {
      "cell_type": "markdown",
      "metadata": {
        "id": "H3Cb1JW2TqjK"
      },
      "source": [
        "---"
      ]
    },
    {
      "cell_type": "code",
      "metadata": {
        "colab": {
          "base_uri": "https://localhost:8080/",
          "height": 1000
        },
        "id": "7j0OsbJxTqjK",
        "outputId": "88f503f1-f979-4ea7-e951-dd5c378f1b9a"
      },
      "source": [
        "number_result = 9\n",
        "\n",
        "for i in range(number_result):\n",
        "\n",
        "    title           = '# RESULT # {:02d}'.format(i+1) \n",
        "    name_function   = 'function_result_{:02d}()'.format(i+1)\n",
        "\n",
        "    print('') \n",
        "    print('################################################################################')\n",
        "    print('#') \n",
        "    print(title)\n",
        "    print('#') \n",
        "    print('################################################################################')\n",
        "    print('') \n",
        "\n",
        "    eval(name_function)"
      ],
      "execution_count": 88,
      "outputs": [
        {
          "output_type": "stream",
          "name": "stdout",
          "text": [
            "\n",
            "################################################################################\n",
            "#\n",
            "# RESULT # 01\n",
            "#\n",
            "################################################################################\n",
            "\n",
            "[plot examples of the real images]\n",
            "\n"
          ]
        },
        {
          "output_type": "display_data",
          "data": {
            "image/png": "[encoded data removed]",
            "text/plain": [
              "<Figure size 648x864 with 48 Axes>"
            ]
          },
          "metadata": {
            "needs_background": "light"
          }
        },
        {
          "output_type": "stream",
          "name": "stdout",
          "text": [
            "\n",
            "################################################################################\n",
            "#\n",
            "# RESULT # 02\n",
            "#\n",
            "################################################################################\n",
            "\n",
            "[plot examples of the fake images]\n",
            "\n"
          ]
        },
        {
          "output_type": "display_data",
          "data": {
            "image/png": "[encoded data removed]",
            "text/plain": [
              "<Figure size 648x864 with 48 Axes>"
            ]
          },
          "metadata": {
            "needs_background": "light"
          }
        },
        {
          "output_type": "stream",
          "name": "stdout",
          "text": [
            "\n",
            "################################################################################\n",
            "#\n",
            "# RESULT # 03\n",
            "#\n",
            "################################################################################\n",
            "\n",
            "[plot the generator loss]\n",
            "\n"
          ]
        },
        {
          "output_type": "display_data",
          "data": {
            "image/png": "[encoded data removed]",
            "text/plain": [
              "<Figure size 576x432 with 1 Axes>"
            ]
          },
          "metadata": {
            "needs_background": "light"
          }
        },
        {
          "output_type": "stream",
          "name": "stdout",
          "text": [
            "\n",
            "################################################################################\n",
            "#\n",
            "# RESULT # 04\n",
            "#\n",
            "################################################################################\n",
            "\n",
            "[plot the discriminator loss]\n",
            "\n"
          ]
        },
        {
          "output_type": "display_data",
          "data": {
            "image/png": "[encoded data removed]",
            "text/plain": [
              "<Figure size 576x432 with 1 Axes>"
            ]
          },
          "metadata": {
            "needs_background": "light"
          }
        },
        {
          "output_type": "stream",
          "name": "stdout",
          "text": [
            "\n",
            "################################################################################\n",
            "#\n",
            "# RESULT # 05\n",
            "#\n",
            "################################################################################\n",
            "\n",
            "[plot the accuracy]\n",
            "\n"
          ]
        },
        {
          "output_type": "display_data",
          "data": {
            "image/png": "[encoded data removed]",
            "text/plain": [
              "<Figure size 576x432 with 1 Axes>"
            ]
          },
          "metadata": {
            "needs_background": "light"
          }
        },
        {
          "output_type": "stream",
          "name": "stdout",
          "text": [
            "\n",
            "################################################################################\n",
            "#\n",
            "# RESULT # 06\n",
            "#\n",
            "################################################################################\n",
            "\n",
            "[print the generator loss at the last 10 epochs]\n",
            "\n",
            "index =  0, value = 2.1242243991\n",
            "index =  1, value = 2.0868376204\n",
            "index =  2, value = 2.5228643309\n",
            "index =  3, value = 1.9204372059\n",
            "index =  4, value = 3.1625782215\n",
            "index =  5, value = 2.9554625406\n",
            "index =  6, value = 2.5778694261\n",
            "index =  7, value = 3.1207259446\n",
            "index =  8, value = 2.2063851031\n",
            "index =  9, value = 2.4523863720\n",
            "\n",
            "################################################################################\n",
            "#\n",
            "# RESULT # 07\n",
            "#\n",
            "################################################################################\n",
            "\n",
            "[print the discriminator loss at the last 10 epochs]\n",
            "\n",
            "index =  0, value = 0.2957294231\n",
            "index =  1, value = 0.2734777511\n",
            "index =  2, value = 0.3310334815\n",
            "index =  3, value = 0.3286017123\n",
            "index =  4, value = 0.0984855663\n",
            "index =  5, value = 0.1280016872\n",
            "index =  6, value = 0.1086253505\n",
            "index =  7, value = 0.2732658737\n",
            "index =  8, value = 0.2573027502\n",
            "index =  9, value = 0.2625342798\n",
            "\n",
            "################################################################################\n",
            "#\n",
            "# RESULT # 08\n",
            "#\n",
            "################################################################################\n",
            "\n",
            "[print the accuracy at the last 10 epochs]\n",
            "\n",
            "index =  0, value = 28.5327343483\n",
            "index =  1, value = 13.4647073223\n",
            "index =  2, value = 24.1949493786\n",
            "index =  3, value = 8.0621532486\n",
            "index =  4, value = 0.0000000000\n",
            "index =  5, value = 28.2747176884\n",
            "index =  6, value = 26.4361162072\n",
            "index =  7, value = 2.7036749155\n",
            "index =  8, value = 37.2706255842\n",
            "index =  9, value = 16.1295250504\n",
            "\n",
            "################################################################################\n",
            "#\n",
            "# RESULT # 09\n",
            "#\n",
            "################################################################################\n",
            "\n",
            "[print the best accuracy within the last 10 epochs]\n",
            "\n",
            "best accuracy = 37.2706255842\n"
          ]
        }
      ]
    },
    {
      "cell_type": "code",
      "metadata": {
        "id": "Qog2cPSDTqjK"
      },
      "source": [
        ""
      ],
      "execution_count": 88,
      "outputs": []
    },
    {
      "cell_type": "code",
      "metadata": {
        "id": "hbQSJScLTqjK"
      },
      "source": [
        ""
      ],
      "execution_count": 88,
      "outputs": []
    }
  ]
}