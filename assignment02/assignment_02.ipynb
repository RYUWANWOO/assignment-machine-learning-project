{
 "cells": [
  {
   "cell_type": "markdown",
   "source": [
    "# Logistic regression for binary classification"
   ],
   "metadata": {
    "colab": {
     "base_uri": "https://localhost:8080/"
    },
    "executionInfo": {
     "elapsed": 5,
     "status": "ok",
     "timestamp": 1630597918894,
     "user": {
      "displayName": "Byung-Woo Hong",
      "photoUrl": "",
      "userId": "17273657108187629509"
     },
     "user_tz": -540
    },
    "id": "K29I-OwCEYzW",
    "outputId": "db8b297c-a4b8-457a-b43f-7570135306c7"
   }
  },
  {
   "cell_type": "markdown",
   "source": [
    "## import libraries"
   ],
   "metadata": {}
  },
  {
   "cell_type": "code",
   "execution_count": 3,
   "source": [
    "import numpy as np\n",
    "import matplotlib.image as img\n",
    "import matplotlib.pyplot as plt\n",
    "import matplotlib.colors as colors\n",
    "import os"
   ],
   "outputs": [],
   "metadata": {}
  },
  {
   "cell_type": "markdown",
   "source": [
    "## load data"
   ],
   "metadata": {}
  },
  {
   "cell_type": "code",
   "execution_count": 4,
   "source": [
    "directory_data  = '/Users/lyuwan-u/Desktop/2021-2/assignment-machine-learning-project/assignment02'\n",
    "filename_data   = 'assignment_02_data.npz'\n",
    "data            = np.load(os.path.join(directory_data, filename_data))\n",
    "\n",
    "x = data['x']\n",
    "y = data['y']\n",
    "\n",
    "print('size of x (image) :', x.shape)\n",
    "print('size of y (label) :', y.shape)\n",
    "\n",
    "print('number of image :', x.shape[0])\n",
    "print('height of image :', x.shape[1])\n",
    "print('width of image :', x.shape[2])\n",
    "im_0    = x[0,:,:]\n",
    "im_1    = x[1,:,:]\n",
    "label_0 = y[0]\n",
    "label_1 = y[1]\n",
    "\n",
    "\n"
   ],
   "outputs": [
    {
     "output_type": "stream",
     "name": "stdout",
     "text": [
      "size of x (image) : (2, 28, 28)\n",
      "size of y (label) : (2,)\n",
      "number of image : 2\n",
      "height of image : 28\n",
      "width of image : 28\n"
     ]
    }
   ],
   "metadata": {}
  },
  {
   "cell_type": "markdown",
   "source": [
    "## plot data"
   ],
   "metadata": {}
  },
  {
   "cell_type": "code",
   "execution_count": 5,
   "source": [
    "def plot_data2(title1, data1, title2, data2):\n",
    "\n",
    "    fig = plt.figure(figsize=(8,4))\n",
    "\n",
    "    rows = 1\n",
    "    cols = 2\n",
    "\n",
    "    ax1 = fig.add_subplot(rows, cols, 1)\n",
    "    ax1.set_title(title1)\n",
    "    ax1.imshow(data1, cmap='gray', vmin=0, vmax=1)\n",
    "\n",
    "    ax2 = fig.add_subplot(rows, cols, 2)\n",
    "    ax2.set_title(title2)\n",
    "    ax2.imshow(data2, cmap='gray', vmin=0, vmax=1)\n",
    "\n",
    "    plt.tight_layout()\n",
    "    plt.show()"
   ],
   "outputs": [],
   "metadata": {}
  },
  {
   "cell_type": "code",
   "execution_count": 6,
   "source": [
    "plot_data2('label: 0', im_0, 'label: 1', im_1)"
   ],
   "outputs": [
    {
     "output_type": "display_data",
     "data": {
      "image/png": "[encoded data removed]",
      "text/plain": [
       "<Figure size 576x288 with 2 Axes>"
      ]
     },
     "metadata": {
      "needs_background": "light"
     }
    }
   ],
   "metadata": {}
  },
  {
   "cell_type": "markdown",
   "source": [
    "## convert gray scale image to color"
   ],
   "metadata": {}
  },
  {
   "cell_type": "code",
   "execution_count": 7,
   "source": [
    "im_0_red    = np.zeros((im_0.shape[0], im_0.shape[1], 3))\n",
    "im_0_green  = np.zeros((im_0.shape[0], im_0.shape[1], 3))\n",
    "im_0_blue   = np.zeros((im_0.shape[0], im_0.shape[1], 3))\n",
    "\n",
    "im_1_red    = np.zeros((im_1.shape[0], im_1.shape[1], 3))\n",
    "im_1_green  = np.zeros((im_1.shape[0], im_1.shape[1], 3))\n",
    "im_1_blue   = np.zeros((im_1.shape[0], im_1.shape[1], 3))\n",
    "\n",
    "im_0_red[:,:,0]     = im_0\n",
    "im_0_green[:,:,1]   = im_0\n",
    "im_0_blue[:,:,2]    = im_0\n",
    "\n",
    "im_1_red[:,:,0]     = im_1\n",
    "im_1_green[:,:,1]   = im_1\n",
    "im_1_blue[:,:,2]    = im_1\n",
    "\n",
    "print(im_0_red.shape)\n",
    "print(im_0_green.shape)\n",
    "print(im_0_blue.shape)\n",
    "\n",
    "print(im_1_red.shape)\n",
    "print(im_1_green.shape)\n",
    "print(im_1_blue.shape)\n"
   ],
   "outputs": [
    {
     "output_type": "stream",
     "name": "stdout",
     "text": [
      "(28, 28, 3)\n",
      "(28, 28, 3)\n",
      "(28, 28, 3)\n",
      "(28, 28, 3)\n",
      "(28, 28, 3)\n",
      "(28, 28, 3)\n"
     ]
    }
   ],
   "metadata": {}
  },
  {
   "cell_type": "markdown",
   "source": [
    "## plot color data"
   ],
   "metadata": {}
  },
  {
   "cell_type": "code",
   "execution_count": 8,
   "source": [
    "def plot_data_color3(title1, data1, title2, data2, title3, data3):\n",
    "\n",
    "    fig, axes = plt.subplots(1, 3, constrained_layout=True, figsize=(12, 4))\n",
    "\n",
    "    axes[0].imshow(data1, vmin=0, vmax=1)\n",
    "    axes[0].set(title=title1)\n",
    "    \n",
    "    axes[1].imshow(data2, vmin=0, vmax=1)\n",
    "    axes[1].set(title=title2)\n",
    "    \n",
    "    axes[2].imshow(data3, vmin=0, vmax=1)\n",
    "    axes[2].set(title=title3)\n",
    "\n",
    "    plt.show()\n"
   ],
   "outputs": [],
   "metadata": {}
  },
  {
   "cell_type": "code",
   "execution_count": 9,
   "source": [
    "plot_data_color3('im 0: red', im_0_red, 'im 0: green', im_0_green, 'im 0: blue', im_0_blue)"
   ],
   "outputs": [
    {
     "output_type": "display_data",
     "data": {
      "image/png": "[encoded data removed]",
      "text/plain": [
       "<Figure size 864x288 with 3 Axes>"
      ]
     },
     "metadata": {
      "needs_background": "light"
     }
    }
   ],
   "metadata": {}
  },
  {
   "cell_type": "code",
   "execution_count": 10,
   "source": [
    "plot_data_color3('im 1: red', im_1_red, 'im 1: green', im_1_green, 'im 1: blue', im_1_blue)"
   ],
   "outputs": [
    {
     "output_type": "display_data",
     "data": {
      "image/png": "[encoded data removed]",
      "text/plain": [
       "<Figure size 864x288 with 3 Axes>"
      ]
     },
     "metadata": {
      "needs_background": "light"
     }
    }
   ],
   "metadata": {}
  },
  {
   "cell_type": "markdown",
   "source": [
    "## linear layer"
   ],
   "metadata": {}
  },
  {
   "cell_type": "code",
   "execution_count": 11,
   "source": [
    "def layer_linear(input, weight):\n",
    "    # fill in the function body\n",
    "    output = np.dot(input,weight.T)\n",
    "    # -------------------------\n",
    "    return output"
   ],
   "outputs": [],
   "metadata": {}
  },
  {
   "cell_type": "markdown",
   "source": [
    "## [git commit # 01] % git commit -a -m \"complete the function for linear layer\""
   ],
   "metadata": {}
  },
  {
   "cell_type": "markdown",
   "source": [
    "## activation function : Sigmoid"
   ],
   "metadata": {}
  },
  {
   "cell_type": "code",
   "execution_count": 12,
   "source": [
    "def activation_sigmoid(input):\n",
    "    # fill in the function body\n",
    "    output = 1/(1+np.exp(-input))\n",
    "    # -------------------------\n",
    "    return output"
   ],
   "outputs": [],
   "metadata": {}
  },
  {
   "cell_type": "markdown",
   "source": [
    "## [git commit # 02] % git commit -a -m \"complete the function for the sigmoid activation\""
   ],
   "metadata": {}
  },
  {
   "cell_type": "markdown",
   "source": [
    "## forward propagation "
   ],
   "metadata": {}
  },
  {
   "cell_type": "code",
   "execution_count": 13,
   "source": [
    "def propagation_forward(input, weight):\n",
    "    \n",
    "    # fill in the function body\n",
    "    output      = layer_linear(input,weight)\n",
    "    prediction  = activation_sigmoid(output)\n",
    "    # -------------------------\n",
    "\n",
    "    return prediction"
   ],
   "outputs": [],
   "metadata": {}
  },
  {
   "cell_type": "markdown",
   "source": [
    "## [git commit # 03] % git commit -a -m \"complete the function for the forward propagation\""
   ],
   "metadata": {}
  },
  {
   "cell_type": "markdown",
   "source": [
    "## compute loss function"
   ],
   "metadata": {}
  },
  {
   "cell_type": "code",
   "execution_count": 14,
   "source": [
    "def compute_loss(input, weight, label):\n",
    "\n",
    "    # fill in the function body\n",
    "    prediction      = propagation_forward(input,weight)\n",
    "    loss            = np.sum(-1 * (label * np.log(prediction) + (1-y) * np.log(1-prediction)))\n",
    "    loss_average    = loss / len(input)\n",
    "    # -------------------------\n",
    "\n",
    "    return loss_average"
   ],
   "outputs": [],
   "metadata": {}
  },
  {
   "cell_type": "markdown",
   "source": [
    "## [git commit # 04] % git commit -a -m \"complete the function for the loss\""
   ],
   "metadata": {}
  },
  {
   "cell_type": "markdown",
   "source": [
    "## compute gradient"
   ],
   "metadata": {}
  },
  {
   "cell_type": "code",
   "execution_count": 15,
   "source": [
    "def compute_gradient(input, weight, label):\n",
    "\n",
    "    # fill in the function body\n",
    "\n",
    "    prediction  = propagation_forward(input,weight)\n",
    "    residual    = (prediction - label).dot(input)\n",
    "    gradient    = residual / len(input)\n",
    "    # -------------------------\n",
    "\n",
    "    return gradient"
   ],
   "outputs": [],
   "metadata": {}
  },
  {
   "cell_type": "markdown",
   "source": [
    "## [git commit # 05] % git commit -a -m \"complete the function for the computation of gradient\""
   ],
   "metadata": {}
  },
  {
   "cell_type": "markdown",
   "source": [
    "## initialize weight"
   ],
   "metadata": {}
  },
  {
   "cell_type": "code",
   "execution_count": 16,
   "source": [
    "weight  = np.ones(np.prod(im_0.shape))\n",
    "weight  = weight * 0.001\n",
    "\n",
    "vector_0    = np.matrix.flatten(im_0)\n",
    "vector_1    = np.matrix.flatten(im_1)\n",
    "\n",
    "input   = [vector_0, vector_1]\n",
    "label   = y"
   ],
   "outputs": [],
   "metadata": {}
  },
  {
   "cell_type": "markdown",
   "source": [
    "## hyper-parameters"
   ],
   "metadata": {}
  },
  {
   "cell_type": "code",
   "execution_count": 17,
   "source": [
    "number_iteration    = 1000\n",
    "learning_rate       = 0.01"
   ],
   "outputs": [],
   "metadata": {}
  },
  {
   "cell_type": "markdown",
   "source": [
    "## gradient descent"
   ],
   "metadata": {}
  },
  {
   "cell_type": "code",
   "execution_count": 18,
   "source": [
    "loss_iteration      = np.zeros(number_iteration)\n",
    "pred_0_iteration    = np.zeros(number_iteration) \n",
    "pred_1_iteration    = np.zeros(number_iteration) \n",
    "\n",
    "for i in range(number_iteration):\n",
    "\n",
    "    # fill in the function body\n",
    "    weight  = weight - learning_rate * compute_gradient(input,weight,label)\n",
    "    loss    = compute_loss(input,weight,label)\n",
    "    pred    = propagation_forward(input,weight)\n",
    "    # -------------------------\n",
    "\n",
    "    loss_iteration[i]   = loss\n",
    "    pred_0_iteration[i] = pred[0]\n",
    "    pred_1_iteration[i] = pred[1]\n",
    "    \n",
    "    print('iteration = %4d, loss = %5.5f' % (i, loss))"
   ],
   "outputs": [
    {
     "output_type": "stream",
     "name": "stdout",
     "text": [
      "iteration =    0, loss = 0.63294\n",
      "iteration =    1, loss = 0.57033\n",
      "iteration =    2, loss = 0.51769\n",
      "iteration =    3, loss = 0.47299\n",
      "iteration =    4, loss = 0.43465\n",
      "iteration =    5, loss = 0.40145\n",
      "iteration =    6, loss = 0.37246\n",
      "iteration =    7, loss = 0.34696\n",
      "iteration =    8, loss = 0.32439\n",
      "iteration =    9, loss = 0.30429\n",
      "iteration =   10, loss = 0.28629\n",
      "iteration =   11, loss = 0.27010\n",
      "iteration =   12, loss = 0.25547\n",
      "iteration =   13, loss = 0.24219\n",
      "iteration =   14, loss = 0.23011\n",
      "iteration =   15, loss = 0.21907\n",
      "iteration =   16, loss = 0.20895\n",
      "iteration =   17, loss = 0.19965\n",
      "iteration =   18, loss = 0.19108\n",
      "iteration =   19, loss = 0.18316\n",
      "iteration =   20, loss = 0.17582\n",
      "iteration =   21, loss = 0.16900\n",
      "iteration =   22, loss = 0.16265\n",
      "iteration =   23, loss = 0.15674\n",
      "iteration =   24, loss = 0.15120\n",
      "iteration =   25, loss = 0.14603\n",
      "iteration =   26, loss = 0.14117\n",
      "iteration =   27, loss = 0.13660\n",
      "iteration =   28, loss = 0.13231\n",
      "iteration =   29, loss = 0.12826\n",
      "iteration =   30, loss = 0.12444\n",
      "iteration =   31, loss = 0.12082\n",
      "iteration =   32, loss = 0.11740\n",
      "iteration =   33, loss = 0.11416\n",
      "iteration =   34, loss = 0.11109\n",
      "iteration =   35, loss = 0.10816\n",
      "iteration =   36, loss = 0.10538\n",
      "iteration =   37, loss = 0.10274\n",
      "iteration =   38, loss = 0.10021\n",
      "iteration =   39, loss = 0.09780\n",
      "iteration =   40, loss = 0.09550\n",
      "iteration =   41, loss = 0.09331\n",
      "iteration =   42, loss = 0.09120\n",
      "iteration =   43, loss = 0.08919\n",
      "iteration =   44, loss = 0.08726\n",
      "iteration =   45, loss = 0.08540\n",
      "iteration =   46, loss = 0.08362\n",
      "iteration =   47, loss = 0.08192\n",
      "iteration =   48, loss = 0.08027\n",
      "iteration =   49, loss = 0.07869\n",
      "iteration =   50, loss = 0.07717\n",
      "iteration =   51, loss = 0.07570\n",
      "iteration =   52, loss = 0.07429\n",
      "iteration =   53, loss = 0.07293\n",
      "iteration =   54, loss = 0.07161\n",
      "iteration =   55, loss = 0.07034\n",
      "iteration =   56, loss = 0.06911\n",
      "iteration =   57, loss = 0.06793\n",
      "iteration =   58, loss = 0.06678\n",
      "iteration =   59, loss = 0.06567\n",
      "iteration =   60, loss = 0.06459\n",
      "iteration =   61, loss = 0.06355\n",
      "iteration =   62, loss = 0.06254\n",
      "iteration =   63, loss = 0.06156\n",
      "iteration =   64, loss = 0.06061\n",
      "iteration =   65, loss = 0.05969\n",
      "iteration =   66, loss = 0.05879\n",
      "iteration =   67, loss = 0.05793\n",
      "iteration =   68, loss = 0.05708\n",
      "iteration =   69, loss = 0.05626\n",
      "iteration =   70, loss = 0.05546\n",
      "iteration =   71, loss = 0.05469\n",
      "iteration =   72, loss = 0.05393\n",
      "iteration =   73, loss = 0.05319\n",
      "iteration =   74, loss = 0.05248\n",
      "iteration =   75, loss = 0.05178\n",
      "iteration =   76, loss = 0.05110\n",
      "iteration =   77, loss = 0.05044\n",
      "iteration =   78, loss = 0.04979\n",
      "iteration =   79, loss = 0.04916\n",
      "iteration =   80, loss = 0.04855\n",
      "iteration =   81, loss = 0.04795\n",
      "iteration =   82, loss = 0.04736\n",
      "iteration =   83, loss = 0.04679\n",
      "iteration =   84, loss = 0.04623\n",
      "iteration =   85, loss = 0.04569\n",
      "iteration =   86, loss = 0.04516\n",
      "iteration =   87, loss = 0.04463\n",
      "iteration =   88, loss = 0.04413\n",
      "iteration =   89, loss = 0.04363\n",
      "iteration =   90, loss = 0.04314\n",
      "iteration =   91, loss = 0.04266\n",
      "iteration =   92, loss = 0.04220\n",
      "iteration =   93, loss = 0.04174\n",
      "iteration =   94, loss = 0.04129\n",
      "iteration =   95, loss = 0.04086\n",
      "iteration =   96, loss = 0.04043\n",
      "iteration =   97, loss = 0.04001\n",
      "iteration =   98, loss = 0.03960\n",
      "iteration =   99, loss = 0.03919\n",
      "iteration =  100, loss = 0.03880\n",
      "iteration =  101, loss = 0.03841\n",
      "iteration =  102, loss = 0.03803\n",
      "iteration =  103, loss = 0.03766\n",
      "iteration =  104, loss = 0.03729\n",
      "iteration =  105, loss = 0.03693\n",
      "iteration =  106, loss = 0.03658\n",
      "iteration =  107, loss = 0.03624\n",
      "iteration =  108, loss = 0.03590\n",
      "iteration =  109, loss = 0.03557\n",
      "iteration =  110, loss = 0.03524\n",
      "iteration =  111, loss = 0.03492\n",
      "iteration =  112, loss = 0.03460\n",
      "iteration =  113, loss = 0.03429\n",
      "iteration =  114, loss = 0.03399\n",
      "iteration =  115, loss = 0.03369\n",
      "iteration =  116, loss = 0.03340\n",
      "iteration =  117, loss = 0.03311\n",
      "iteration =  118, loss = 0.03282\n",
      "iteration =  119, loss = 0.03254\n",
      "iteration =  120, loss = 0.03227\n",
      "iteration =  121, loss = 0.03200\n",
      "iteration =  122, loss = 0.03173\n",
      "iteration =  123, loss = 0.03147\n",
      "iteration =  124, loss = 0.03122\n",
      "iteration =  125, loss = 0.03096\n",
      "iteration =  126, loss = 0.03071\n",
      "iteration =  127, loss = 0.03047\n",
      "iteration =  128, loss = 0.03023\n",
      "iteration =  129, loss = 0.02999\n",
      "iteration =  130, loss = 0.02976\n",
      "iteration =  131, loss = 0.02953\n",
      "iteration =  132, loss = 0.02930\n",
      "iteration =  133, loss = 0.02908\n",
      "iteration =  134, loss = 0.02886\n",
      "iteration =  135, loss = 0.02864\n",
      "iteration =  136, loss = 0.02843\n",
      "iteration =  137, loss = 0.02822\n",
      "iteration =  138, loss = 0.02801\n",
      "iteration =  139, loss = 0.02780\n",
      "iteration =  140, loss = 0.02760\n",
      "iteration =  141, loss = 0.02740\n",
      "iteration =  142, loss = 0.02721\n",
      "iteration =  143, loss = 0.02701\n",
      "iteration =  144, loss = 0.02682\n",
      "iteration =  145, loss = 0.02664\n",
      "iteration =  146, loss = 0.02645\n",
      "iteration =  147, loss = 0.02627\n",
      "iteration =  148, loss = 0.02609\n",
      "iteration =  149, loss = 0.02591\n",
      "iteration =  150, loss = 0.02573\n",
      "iteration =  151, loss = 0.02556\n",
      "iteration =  152, loss = 0.02539\n",
      "iteration =  153, loss = 0.02522\n",
      "iteration =  154, loss = 0.02506\n",
      "iteration =  155, loss = 0.02489\n",
      "iteration =  156, loss = 0.02473\n",
      "iteration =  157, loss = 0.02457\n",
      "iteration =  158, loss = 0.02441\n",
      "iteration =  159, loss = 0.02426\n",
      "iteration =  160, loss = 0.02410\n",
      "iteration =  161, loss = 0.02395\n",
      "iteration =  162, loss = 0.02380\n",
      "iteration =  163, loss = 0.02365\n",
      "iteration =  164, loss = 0.02350\n",
      "iteration =  165, loss = 0.02336\n",
      "iteration =  166, loss = 0.02322\n",
      "iteration =  167, loss = 0.02308\n",
      "iteration =  168, loss = 0.02294\n",
      "iteration =  169, loss = 0.02280\n",
      "iteration =  170, loss = 0.02266\n",
      "iteration =  171, loss = 0.02253\n",
      "iteration =  172, loss = 0.02239\n",
      "iteration =  173, loss = 0.02226\n",
      "iteration =  174, loss = 0.02213\n",
      "iteration =  175, loss = 0.02200\n",
      "iteration =  176, loss = 0.02188\n",
      "iteration =  177, loss = 0.02175\n",
      "iteration =  178, loss = 0.02163\n",
      "iteration =  179, loss = 0.02150\n",
      "iteration =  180, loss = 0.02138\n",
      "iteration =  181, loss = 0.02126\n",
      "iteration =  182, loss = 0.02114\n",
      "iteration =  183, loss = 0.02103\n",
      "iteration =  184, loss = 0.02091\n",
      "iteration =  185, loss = 0.02080\n",
      "iteration =  186, loss = 0.02068\n",
      "iteration =  187, loss = 0.02057\n",
      "iteration =  188, loss = 0.02046\n",
      "iteration =  189, loss = 0.02035\n",
      "iteration =  190, loss = 0.02024\n",
      "iteration =  191, loss = 0.02013\n",
      "iteration =  192, loss = 0.02003\n",
      "iteration =  193, loss = 0.01992\n",
      "iteration =  194, loss = 0.01982\n",
      "iteration =  195, loss = 0.01971\n",
      "iteration =  196, loss = 0.01961\n",
      "iteration =  197, loss = 0.01951\n",
      "iteration =  198, loss = 0.01941\n",
      "iteration =  199, loss = 0.01931\n",
      "iteration =  200, loss = 0.01921\n",
      "iteration =  201, loss = 0.01911\n",
      "iteration =  202, loss = 0.01902\n",
      "iteration =  203, loss = 0.01892\n",
      "iteration =  204, loss = 0.01883\n",
      "iteration =  205, loss = 0.01873\n",
      "iteration =  206, loss = 0.01864\n",
      "iteration =  207, loss = 0.01855\n",
      "iteration =  208, loss = 0.01846\n",
      "iteration =  209, loss = 0.01837\n",
      "iteration =  210, loss = 0.01828\n",
      "iteration =  211, loss = 0.01819\n",
      "iteration =  212, loss = 0.01811\n",
      "iteration =  213, loss = 0.01802\n",
      "iteration =  214, loss = 0.01793\n",
      "iteration =  215, loss = 0.01785\n",
      "iteration =  216, loss = 0.01777\n",
      "iteration =  217, loss = 0.01768\n",
      "iteration =  218, loss = 0.01760\n",
      "iteration =  219, loss = 0.01752\n",
      "iteration =  220, loss = 0.01744\n",
      "iteration =  221, loss = 0.01736\n",
      "iteration =  222, loss = 0.01728\n",
      "iteration =  223, loss = 0.01720\n",
      "iteration =  224, loss = 0.01712\n",
      "iteration =  225, loss = 0.01704\n",
      "iteration =  226, loss = 0.01697\n",
      "iteration =  227, loss = 0.01689\n",
      "iteration =  228, loss = 0.01681\n",
      "iteration =  229, loss = 0.01674\n",
      "iteration =  230, loss = 0.01667\n",
      "iteration =  231, loss = 0.01659\n",
      "iteration =  232, loss = 0.01652\n",
      "iteration =  233, loss = 0.01645\n",
      "iteration =  234, loss = 0.01638\n",
      "iteration =  235, loss = 0.01631\n",
      "iteration =  236, loss = 0.01624\n",
      "iteration =  237, loss = 0.01617\n",
      "iteration =  238, loss = 0.01610\n",
      "iteration =  239, loss = 0.01603\n",
      "iteration =  240, loss = 0.01596\n",
      "iteration =  241, loss = 0.01589\n",
      "iteration =  242, loss = 0.01583\n",
      "iteration =  243, loss = 0.01576\n",
      "iteration =  244, loss = 0.01569\n",
      "iteration =  245, loss = 0.01563\n",
      "iteration =  246, loss = 0.01556\n",
      "iteration =  247, loss = 0.01550\n",
      "iteration =  248, loss = 0.01544\n",
      "iteration =  249, loss = 0.01537\n",
      "iteration =  250, loss = 0.01531\n",
      "iteration =  251, loss = 0.01525\n",
      "iteration =  252, loss = 0.01519\n",
      "iteration =  253, loss = 0.01513\n",
      "iteration =  254, loss = 0.01507\n",
      "iteration =  255, loss = 0.01501\n",
      "iteration =  256, loss = 0.01495\n",
      "iteration =  257, loss = 0.01489\n",
      "iteration =  258, loss = 0.01483\n",
      "iteration =  259, loss = 0.01477\n",
      "iteration =  260, loss = 0.01471\n",
      "iteration =  261, loss = 0.01466\n",
      "iteration =  262, loss = 0.01460\n",
      "iteration =  263, loss = 0.01454\n",
      "iteration =  264, loss = 0.01449\n",
      "iteration =  265, loss = 0.01443\n",
      "iteration =  266, loss = 0.01438\n",
      "iteration =  267, loss = 0.01432\n",
      "iteration =  268, loss = 0.01427\n",
      "iteration =  269, loss = 0.01421\n",
      "iteration =  270, loss = 0.01416\n",
      "iteration =  271, loss = 0.01411\n",
      "iteration =  272, loss = 0.01405\n",
      "iteration =  273, loss = 0.01400\n",
      "iteration =  274, loss = 0.01395\n",
      "iteration =  275, loss = 0.01390\n",
      "iteration =  276, loss = 0.01385\n",
      "iteration =  277, loss = 0.01380\n",
      "iteration =  278, loss = 0.01375\n",
      "iteration =  279, loss = 0.01370\n",
      "iteration =  280, loss = 0.01365\n",
      "iteration =  281, loss = 0.01360\n",
      "iteration =  282, loss = 0.01355\n",
      "iteration =  283, loss = 0.01350\n",
      "iteration =  284, loss = 0.01345\n",
      "iteration =  285, loss = 0.01340\n",
      "iteration =  286, loss = 0.01335\n",
      "iteration =  287, loss = 0.01331\n",
      "iteration =  288, loss = 0.01326\n",
      "iteration =  289, loss = 0.01321\n",
      "iteration =  290, loss = 0.01317\n",
      "iteration =  291, loss = 0.01312\n",
      "iteration =  292, loss = 0.01308\n",
      "iteration =  293, loss = 0.01303\n",
      "iteration =  294, loss = 0.01299\n",
      "iteration =  295, loss = 0.01294\n",
      "iteration =  296, loss = 0.01290\n",
      "iteration =  297, loss = 0.01285\n",
      "iteration =  298, loss = 0.01281\n",
      "iteration =  299, loss = 0.01276\n",
      "iteration =  300, loss = 0.01272\n",
      "iteration =  301, loss = 0.01268\n",
      "iteration =  302, loss = 0.01264\n",
      "iteration =  303, loss = 0.01259\n",
      "iteration =  304, loss = 0.01255\n",
      "iteration =  305, loss = 0.01251\n",
      "iteration =  306, loss = 0.01247\n",
      "iteration =  307, loss = 0.01243\n",
      "iteration =  308, loss = 0.01239\n",
      "iteration =  309, loss = 0.01235\n",
      "iteration =  310, loss = 0.01230\n",
      "iteration =  311, loss = 0.01226\n",
      "iteration =  312, loss = 0.01222\n",
      "iteration =  313, loss = 0.01219\n",
      "iteration =  314, loss = 0.01215\n",
      "iteration =  315, loss = 0.01211\n",
      "iteration =  316, loss = 0.01207\n",
      "iteration =  317, loss = 0.01203\n",
      "iteration =  318, loss = 0.01199\n",
      "iteration =  319, loss = 0.01195\n",
      "iteration =  320, loss = 0.01191\n",
      "iteration =  321, loss = 0.01188\n",
      "iteration =  322, loss = 0.01184\n",
      "iteration =  323, loss = 0.01180\n",
      "iteration =  324, loss = 0.01177\n",
      "iteration =  325, loss = 0.01173\n",
      "iteration =  326, loss = 0.01169\n",
      "iteration =  327, loss = 0.01166\n",
      "iteration =  328, loss = 0.01162\n",
      "iteration =  329, loss = 0.01158\n",
      "iteration =  330, loss = 0.01155\n",
      "iteration =  331, loss = 0.01151\n",
      "iteration =  332, loss = 0.01148\n",
      "iteration =  333, loss = 0.01144\n",
      "iteration =  334, loss = 0.01141\n",
      "iteration =  335, loss = 0.01137\n",
      "iteration =  336, loss = 0.01134\n",
      "iteration =  337, loss = 0.01130\n",
      "iteration =  338, loss = 0.01127\n",
      "iteration =  339, loss = 0.01124\n",
      "iteration =  340, loss = 0.01120\n",
      "iteration =  341, loss = 0.01117\n",
      "iteration =  342, loss = 0.01114\n",
      "iteration =  343, loss = 0.01110\n",
      "iteration =  344, loss = 0.01107\n",
      "iteration =  345, loss = 0.01104\n",
      "iteration =  346, loss = 0.01101\n",
      "iteration =  347, loss = 0.01097\n",
      "iteration =  348, loss = 0.01094\n",
      "iteration =  349, loss = 0.01091\n",
      "iteration =  350, loss = 0.01088\n",
      "iteration =  351, loss = 0.01085\n",
      "iteration =  352, loss = 0.01082\n",
      "iteration =  353, loss = 0.01078\n",
      "iteration =  354, loss = 0.01075\n",
      "iteration =  355, loss = 0.01072\n",
      "iteration =  356, loss = 0.01069\n",
      "iteration =  357, loss = 0.01066\n",
      "iteration =  358, loss = 0.01063\n",
      "iteration =  359, loss = 0.01060\n",
      "iteration =  360, loss = 0.01057\n",
      "iteration =  361, loss = 0.01054\n",
      "iteration =  362, loss = 0.01051\n",
      "iteration =  363, loss = 0.01048\n",
      "iteration =  364, loss = 0.01045\n",
      "iteration =  365, loss = 0.01042\n",
      "iteration =  366, loss = 0.01040\n",
      "iteration =  367, loss = 0.01037\n",
      "iteration =  368, loss = 0.01034\n",
      "iteration =  369, loss = 0.01031\n",
      "iteration =  370, loss = 0.01028\n",
      "iteration =  371, loss = 0.01025\n",
      "iteration =  372, loss = 0.01023\n",
      "iteration =  373, loss = 0.01020\n",
      "iteration =  374, loss = 0.01017\n",
      "iteration =  375, loss = 0.01014\n",
      "iteration =  376, loss = 0.01011\n",
      "iteration =  377, loss = 0.01009\n",
      "iteration =  378, loss = 0.01006\n",
      "iteration =  379, loss = 0.01003\n",
      "iteration =  380, loss = 0.01001\n",
      "iteration =  381, loss = 0.00998\n",
      "iteration =  382, loss = 0.00995\n",
      "iteration =  383, loss = 0.00993\n",
      "iteration =  384, loss = 0.00990\n",
      "iteration =  385, loss = 0.00988\n",
      "iteration =  386, loss = 0.00985\n",
      "iteration =  387, loss = 0.00982\n",
      "iteration =  388, loss = 0.00980\n",
      "iteration =  389, loss = 0.00977\n",
      "iteration =  390, loss = 0.00975\n",
      "iteration =  391, loss = 0.00972\n",
      "iteration =  392, loss = 0.00970\n",
      "iteration =  393, loss = 0.00967\n",
      "iteration =  394, loss = 0.00965\n",
      "iteration =  395, loss = 0.00962\n",
      "iteration =  396, loss = 0.00960\n",
      "iteration =  397, loss = 0.00957\n",
      "iteration =  398, loss = 0.00955\n",
      "iteration =  399, loss = 0.00952\n",
      "iteration =  400, loss = 0.00950\n",
      "iteration =  401, loss = 0.00948\n",
      "iteration =  402, loss = 0.00945\n",
      "iteration =  403, loss = 0.00943\n",
      "iteration =  404, loss = 0.00940\n",
      "iteration =  405, loss = 0.00938\n",
      "iteration =  406, loss = 0.00936\n",
      "iteration =  407, loss = 0.00933\n",
      "iteration =  408, loss = 0.00931\n",
      "iteration =  409, loss = 0.00929\n",
      "iteration =  410, loss = 0.00926\n",
      "iteration =  411, loss = 0.00924\n",
      "iteration =  412, loss = 0.00922\n",
      "iteration =  413, loss = 0.00920\n",
      "iteration =  414, loss = 0.00917\n",
      "iteration =  415, loss = 0.00915\n",
      "iteration =  416, loss = 0.00913\n",
      "iteration =  417, loss = 0.00911\n",
      "iteration =  418, loss = 0.00908\n",
      "iteration =  419, loss = 0.00906\n",
      "iteration =  420, loss = 0.00904\n",
      "iteration =  421, loss = 0.00902\n",
      "iteration =  422, loss = 0.00900\n",
      "iteration =  423, loss = 0.00898\n",
      "iteration =  424, loss = 0.00895\n",
      "iteration =  425, loss = 0.00893\n",
      "iteration =  426, loss = 0.00891\n",
      "iteration =  427, loss = 0.00889\n",
      "iteration =  428, loss = 0.00887\n",
      "iteration =  429, loss = 0.00885\n",
      "iteration =  430, loss = 0.00883\n",
      "iteration =  431, loss = 0.00881\n",
      "iteration =  432, loss = 0.00879\n",
      "iteration =  433, loss = 0.00877\n",
      "iteration =  434, loss = 0.00875\n",
      "iteration =  435, loss = 0.00872\n",
      "iteration =  436, loss = 0.00870\n",
      "iteration =  437, loss = 0.00868\n",
      "iteration =  438, loss = 0.00866\n",
      "iteration =  439, loss = 0.00864\n",
      "iteration =  440, loss = 0.00862\n",
      "iteration =  441, loss = 0.00860\n",
      "iteration =  442, loss = 0.00858\n",
      "iteration =  443, loss = 0.00856\n",
      "iteration =  444, loss = 0.00855\n",
      "iteration =  445, loss = 0.00853\n",
      "iteration =  446, loss = 0.00851\n",
      "iteration =  447, loss = 0.00849\n",
      "iteration =  448, loss = 0.00847\n",
      "iteration =  449, loss = 0.00845\n",
      "iteration =  450, loss = 0.00843\n",
      "iteration =  451, loss = 0.00841\n",
      "iteration =  452, loss = 0.00839\n",
      "iteration =  453, loss = 0.00837\n",
      "iteration =  454, loss = 0.00835\n",
      "iteration =  455, loss = 0.00834\n",
      "iteration =  456, loss = 0.00832\n",
      "iteration =  457, loss = 0.00830\n",
      "iteration =  458, loss = 0.00828\n",
      "iteration =  459, loss = 0.00826\n",
      "iteration =  460, loss = 0.00824\n",
      "iteration =  461, loss = 0.00823\n",
      "iteration =  462, loss = 0.00821\n",
      "iteration =  463, loss = 0.00819\n",
      "iteration =  464, loss = 0.00817\n",
      "iteration =  465, loss = 0.00815\n",
      "iteration =  466, loss = 0.00814\n",
      "iteration =  467, loss = 0.00812\n",
      "iteration =  468, loss = 0.00810\n",
      "iteration =  469, loss = 0.00808\n",
      "iteration =  470, loss = 0.00807\n",
      "iteration =  471, loss = 0.00805\n",
      "iteration =  472, loss = 0.00803\n",
      "iteration =  473, loss = 0.00801\n",
      "iteration =  474, loss = 0.00800\n",
      "iteration =  475, loss = 0.00798\n",
      "iteration =  476, loss = 0.00796\n",
      "iteration =  477, loss = 0.00795\n",
      "iteration =  478, loss = 0.00793\n",
      "iteration =  479, loss = 0.00791\n",
      "iteration =  480, loss = 0.00790\n",
      "iteration =  481, loss = 0.00788\n",
      "iteration =  482, loss = 0.00786\n",
      "iteration =  483, loss = 0.00785\n",
      "iteration =  484, loss = 0.00783\n",
      "iteration =  485, loss = 0.00781\n",
      "iteration =  486, loss = 0.00780\n",
      "iteration =  487, loss = 0.00778\n",
      "iteration =  488, loss = 0.00776\n",
      "iteration =  489, loss = 0.00775\n",
      "iteration =  490, loss = 0.00773\n",
      "iteration =  491, loss = 0.00772\n",
      "iteration =  492, loss = 0.00770\n",
      "iteration =  493, loss = 0.00769\n",
      "iteration =  494, loss = 0.00767\n",
      "iteration =  495, loss = 0.00765\n",
      "iteration =  496, loss = 0.00764\n",
      "iteration =  497, loss = 0.00762\n",
      "iteration =  498, loss = 0.00761\n",
      "iteration =  499, loss = 0.00759\n",
      "iteration =  500, loss = 0.00758\n",
      "iteration =  501, loss = 0.00756\n",
      "iteration =  502, loss = 0.00755\n",
      "iteration =  503, loss = 0.00753\n",
      "iteration =  504, loss = 0.00752\n",
      "iteration =  505, loss = 0.00750\n",
      "iteration =  506, loss = 0.00749\n",
      "iteration =  507, loss = 0.00747\n",
      "iteration =  508, loss = 0.00746\n",
      "iteration =  509, loss = 0.00744\n",
      "iteration =  510, loss = 0.00743\n",
      "iteration =  511, loss = 0.00741\n",
      "iteration =  512, loss = 0.00740\n",
      "iteration =  513, loss = 0.00738\n",
      "iteration =  514, loss = 0.00737\n",
      "iteration =  515, loss = 0.00735\n",
      "iteration =  516, loss = 0.00734\n",
      "iteration =  517, loss = 0.00732\n",
      "iteration =  518, loss = 0.00731\n",
      "iteration =  519, loss = 0.00730\n",
      "iteration =  520, loss = 0.00728\n",
      "iteration =  521, loss = 0.00727\n",
      "iteration =  522, loss = 0.00725\n",
      "iteration =  523, loss = 0.00724\n",
      "iteration =  524, loss = 0.00722\n",
      "iteration =  525, loss = 0.00721\n",
      "iteration =  526, loss = 0.00720\n",
      "iteration =  527, loss = 0.00718\n",
      "iteration =  528, loss = 0.00717\n",
      "iteration =  529, loss = 0.00716\n",
      "iteration =  530, loss = 0.00714\n",
      "iteration =  531, loss = 0.00713\n",
      "iteration =  532, loss = 0.00711\n",
      "iteration =  533, loss = 0.00710\n",
      "iteration =  534, loss = 0.00709\n",
      "iteration =  535, loss = 0.00707\n",
      "iteration =  536, loss = 0.00706\n",
      "iteration =  537, loss = 0.00705\n",
      "iteration =  538, loss = 0.00703\n",
      "iteration =  539, loss = 0.00702\n",
      "iteration =  540, loss = 0.00701\n",
      "iteration =  541, loss = 0.00699\n",
      "iteration =  542, loss = 0.00698\n",
      "iteration =  543, loss = 0.00697\n",
      "iteration =  544, loss = 0.00696\n",
      "iteration =  545, loss = 0.00694\n",
      "iteration =  546, loss = 0.00693\n",
      "iteration =  547, loss = 0.00692\n",
      "iteration =  548, loss = 0.00690\n",
      "iteration =  549, loss = 0.00689\n",
      "iteration =  550, loss = 0.00688\n",
      "iteration =  551, loss = 0.00687\n",
      "iteration =  552, loss = 0.00685\n",
      "iteration =  553, loss = 0.00684\n",
      "iteration =  554, loss = 0.00683\n",
      "iteration =  555, loss = 0.00682\n",
      "iteration =  556, loss = 0.00680\n",
      "iteration =  557, loss = 0.00679\n",
      "iteration =  558, loss = 0.00678\n",
      "iteration =  559, loss = 0.00677\n",
      "iteration =  560, loss = 0.00675\n",
      "iteration =  561, loss = 0.00674\n",
      "iteration =  562, loss = 0.00673\n",
      "iteration =  563, loss = 0.00672\n",
      "iteration =  564, loss = 0.00671\n",
      "iteration =  565, loss = 0.00669\n",
      "iteration =  566, loss = 0.00668\n",
      "iteration =  567, loss = 0.00667\n",
      "iteration =  568, loss = 0.00666\n",
      "iteration =  569, loss = 0.00665\n",
      "iteration =  570, loss = 0.00663\n",
      "iteration =  571, loss = 0.00662\n",
      "iteration =  572, loss = 0.00661\n",
      "iteration =  573, loss = 0.00660\n",
      "iteration =  574, loss = 0.00659\n",
      "iteration =  575, loss = 0.00658\n",
      "iteration =  576, loss = 0.00656\n",
      "iteration =  577, loss = 0.00655\n",
      "iteration =  578, loss = 0.00654\n",
      "iteration =  579, loss = 0.00653\n",
      "iteration =  580, loss = 0.00652\n",
      "iteration =  581, loss = 0.00651\n",
      "iteration =  582, loss = 0.00650\n",
      "iteration =  583, loss = 0.00648\n",
      "iteration =  584, loss = 0.00647\n",
      "iteration =  585, loss = 0.00646\n",
      "iteration =  586, loss = 0.00645\n",
      "iteration =  587, loss = 0.00644\n",
      "iteration =  588, loss = 0.00643\n",
      "iteration =  589, loss = 0.00642\n",
      "iteration =  590, loss = 0.00641\n",
      "iteration =  591, loss = 0.00640\n",
      "iteration =  592, loss = 0.00639\n",
      "iteration =  593, loss = 0.00637\n",
      "iteration =  594, loss = 0.00636\n",
      "iteration =  595, loss = 0.00635\n",
      "iteration =  596, loss = 0.00634\n",
      "iteration =  597, loss = 0.00633\n",
      "iteration =  598, loss = 0.00632\n",
      "iteration =  599, loss = 0.00631\n",
      "iteration =  600, loss = 0.00630\n",
      "iteration =  601, loss = 0.00629\n",
      "iteration =  602, loss = 0.00628\n",
      "iteration =  603, loss = 0.00627\n",
      "iteration =  604, loss = 0.00626\n",
      "iteration =  605, loss = 0.00625\n",
      "iteration =  606, loss = 0.00624\n",
      "iteration =  607, loss = 0.00623\n",
      "iteration =  608, loss = 0.00622\n",
      "iteration =  609, loss = 0.00620\n",
      "iteration =  610, loss = 0.00619\n",
      "iteration =  611, loss = 0.00618\n",
      "iteration =  612, loss = 0.00617\n",
      "iteration =  613, loss = 0.00616\n",
      "iteration =  614, loss = 0.00615\n",
      "iteration =  615, loss = 0.00614\n",
      "iteration =  616, loss = 0.00613\n",
      "iteration =  617, loss = 0.00612\n",
      "iteration =  618, loss = 0.00611\n",
      "iteration =  619, loss = 0.00610\n",
      "iteration =  620, loss = 0.00609\n",
      "iteration =  621, loss = 0.00608\n",
      "iteration =  622, loss = 0.00607\n",
      "iteration =  623, loss = 0.00606\n",
      "iteration =  624, loss = 0.00605\n",
      "iteration =  625, loss = 0.00604\n",
      "iteration =  626, loss = 0.00603\n",
      "iteration =  627, loss = 0.00602\n",
      "iteration =  628, loss = 0.00601\n",
      "iteration =  629, loss = 0.00601\n",
      "iteration =  630, loss = 0.00600\n",
      "iteration =  631, loss = 0.00599\n",
      "iteration =  632, loss = 0.00598\n",
      "iteration =  633, loss = 0.00597\n",
      "iteration =  634, loss = 0.00596\n",
      "iteration =  635, loss = 0.00595\n",
      "iteration =  636, loss = 0.00594\n",
      "iteration =  637, loss = 0.00593\n",
      "iteration =  638, loss = 0.00592\n",
      "iteration =  639, loss = 0.00591\n",
      "iteration =  640, loss = 0.00590\n",
      "iteration =  641, loss = 0.00589\n",
      "iteration =  642, loss = 0.00588\n",
      "iteration =  643, loss = 0.00587\n",
      "iteration =  644, loss = 0.00586\n",
      "iteration =  645, loss = 0.00585\n",
      "iteration =  646, loss = 0.00585\n",
      "iteration =  647, loss = 0.00584\n",
      "iteration =  648, loss = 0.00583\n",
      "iteration =  649, loss = 0.00582\n",
      "iteration =  650, loss = 0.00581\n",
      "iteration =  651, loss = 0.00580\n",
      "iteration =  652, loss = 0.00579\n",
      "iteration =  653, loss = 0.00578\n",
      "iteration =  654, loss = 0.00577\n",
      "iteration =  655, loss = 0.00576\n",
      "iteration =  656, loss = 0.00576\n",
      "iteration =  657, loss = 0.00575\n",
      "iteration =  658, loss = 0.00574\n",
      "iteration =  659, loss = 0.00573\n",
      "iteration =  660, loss = 0.00572\n",
      "iteration =  661, loss = 0.00571\n",
      "iteration =  662, loss = 0.00570\n",
      "iteration =  663, loss = 0.00569\n",
      "iteration =  664, loss = 0.00569\n",
      "iteration =  665, loss = 0.00568\n",
      "iteration =  666, loss = 0.00567\n",
      "iteration =  667, loss = 0.00566\n",
      "iteration =  668, loss = 0.00565\n",
      "iteration =  669, loss = 0.00564\n",
      "iteration =  670, loss = 0.00563\n",
      "iteration =  671, loss = 0.00563\n",
      "iteration =  672, loss = 0.00562\n",
      "iteration =  673, loss = 0.00561\n",
      "iteration =  674, loss = 0.00560\n",
      "iteration =  675, loss = 0.00559\n",
      "iteration =  676, loss = 0.00558\n",
      "iteration =  677, loss = 0.00557\n",
      "iteration =  678, loss = 0.00557\n",
      "iteration =  679, loss = 0.00556\n",
      "iteration =  680, loss = 0.00555\n",
      "iteration =  681, loss = 0.00554\n",
      "iteration =  682, loss = 0.00553\n",
      "iteration =  683, loss = 0.00553\n",
      "iteration =  684, loss = 0.00552\n",
      "iteration =  685, loss = 0.00551\n",
      "iteration =  686, loss = 0.00550\n",
      "iteration =  687, loss = 0.00549\n",
      "iteration =  688, loss = 0.00548\n",
      "iteration =  689, loss = 0.00548\n",
      "iteration =  690, loss = 0.00547\n",
      "iteration =  691, loss = 0.00546\n",
      "iteration =  692, loss = 0.00545\n",
      "iteration =  693, loss = 0.00544\n",
      "iteration =  694, loss = 0.00544\n",
      "iteration =  695, loss = 0.00543\n",
      "iteration =  696, loss = 0.00542\n",
      "iteration =  697, loss = 0.00541\n",
      "iteration =  698, loss = 0.00541\n",
      "iteration =  699, loss = 0.00540\n",
      "iteration =  700, loss = 0.00539\n",
      "iteration =  701, loss = 0.00538\n",
      "iteration =  702, loss = 0.00537\n",
      "iteration =  703, loss = 0.00537\n",
      "iteration =  704, loss = 0.00536\n",
      "iteration =  705, loss = 0.00535\n",
      "iteration =  706, loss = 0.00534\n",
      "iteration =  707, loss = 0.00534\n",
      "iteration =  708, loss = 0.00533\n",
      "iteration =  709, loss = 0.00532\n",
      "iteration =  710, loss = 0.00531\n",
      "iteration =  711, loss = 0.00531\n",
      "iteration =  712, loss = 0.00530\n",
      "iteration =  713, loss = 0.00529\n",
      "iteration =  714, loss = 0.00528\n",
      "iteration =  715, loss = 0.00528\n",
      "iteration =  716, loss = 0.00527\n",
      "iteration =  717, loss = 0.00526\n",
      "iteration =  718, loss = 0.00525\n",
      "iteration =  719, loss = 0.00525\n",
      "iteration =  720, loss = 0.00524\n",
      "iteration =  721, loss = 0.00523\n",
      "iteration =  722, loss = 0.00522\n",
      "iteration =  723, loss = 0.00522\n",
      "iteration =  724, loss = 0.00521\n",
      "iteration =  725, loss = 0.00520\n",
      "iteration =  726, loss = 0.00519\n",
      "iteration =  727, loss = 0.00519\n",
      "iteration =  728, loss = 0.00518\n",
      "iteration =  729, loss = 0.00517\n",
      "iteration =  730, loss = 0.00517\n",
      "iteration =  731, loss = 0.00516\n",
      "iteration =  732, loss = 0.00515\n",
      "iteration =  733, loss = 0.00514\n",
      "iteration =  734, loss = 0.00514\n",
      "iteration =  735, loss = 0.00513\n",
      "iteration =  736, loss = 0.00512\n",
      "iteration =  737, loss = 0.00512\n",
      "iteration =  738, loss = 0.00511\n",
      "iteration =  739, loss = 0.00510\n",
      "iteration =  740, loss = 0.00510\n",
      "iteration =  741, loss = 0.00509\n",
      "iteration =  742, loss = 0.00508\n",
      "iteration =  743, loss = 0.00507\n",
      "iteration =  744, loss = 0.00507\n",
      "iteration =  745, loss = 0.00506\n",
      "iteration =  746, loss = 0.00505\n",
      "iteration =  747, loss = 0.00505\n",
      "iteration =  748, loss = 0.00504\n",
      "iteration =  749, loss = 0.00503\n",
      "iteration =  750, loss = 0.00503\n",
      "iteration =  751, loss = 0.00502\n",
      "iteration =  752, loss = 0.00501\n",
      "iteration =  753, loss = 0.00501\n",
      "iteration =  754, loss = 0.00500\n",
      "iteration =  755, loss = 0.00499\n",
      "iteration =  756, loss = 0.00499\n",
      "iteration =  757, loss = 0.00498\n",
      "iteration =  758, loss = 0.00497\n",
      "iteration =  759, loss = 0.00497\n",
      "iteration =  760, loss = 0.00496\n",
      "iteration =  761, loss = 0.00495\n",
      "iteration =  762, loss = 0.00495\n",
      "iteration =  763, loss = 0.00494\n",
      "iteration =  764, loss = 0.00493\n",
      "iteration =  765, loss = 0.00493\n",
      "iteration =  766, loss = 0.00492\n",
      "iteration =  767, loss = 0.00491\n",
      "iteration =  768, loss = 0.00491\n",
      "iteration =  769, loss = 0.00490\n",
      "iteration =  770, loss = 0.00489\n",
      "iteration =  771, loss = 0.00489\n",
      "iteration =  772, loss = 0.00488\n",
      "iteration =  773, loss = 0.00488\n",
      "iteration =  774, loss = 0.00487\n",
      "iteration =  775, loss = 0.00486\n",
      "iteration =  776, loss = 0.00486\n",
      "iteration =  777, loss = 0.00485\n",
      "iteration =  778, loss = 0.00484\n",
      "iteration =  779, loss = 0.00484\n",
      "iteration =  780, loss = 0.00483\n",
      "iteration =  781, loss = 0.00482\n",
      "iteration =  782, loss = 0.00482\n",
      "iteration =  783, loss = 0.00481\n",
      "iteration =  784, loss = 0.00481\n",
      "iteration =  785, loss = 0.00480\n",
      "iteration =  786, loss = 0.00479\n",
      "iteration =  787, loss = 0.00479\n",
      "iteration =  788, loss = 0.00478\n",
      "iteration =  789, loss = 0.00478\n",
      "iteration =  790, loss = 0.00477\n",
      "iteration =  791, loss = 0.00476\n",
      "iteration =  792, loss = 0.00476\n",
      "iteration =  793, loss = 0.00475\n",
      "iteration =  794, loss = 0.00475\n",
      "iteration =  795, loss = 0.00474\n",
      "iteration =  796, loss = 0.00473\n",
      "iteration =  797, loss = 0.00473\n",
      "iteration =  798, loss = 0.00472\n",
      "iteration =  799, loss = 0.00472\n",
      "iteration =  800, loss = 0.00471\n",
      "iteration =  801, loss = 0.00470\n",
      "iteration =  802, loss = 0.00470\n",
      "iteration =  803, loss = 0.00469\n",
      "iteration =  804, loss = 0.00469\n",
      "iteration =  805, loss = 0.00468\n",
      "iteration =  806, loss = 0.00467\n",
      "iteration =  807, loss = 0.00467\n",
      "iteration =  808, loss = 0.00466\n",
      "iteration =  809, loss = 0.00466\n",
      "iteration =  810, loss = 0.00465\n",
      "iteration =  811, loss = 0.00464\n",
      "iteration =  812, loss = 0.00464\n",
      "iteration =  813, loss = 0.00463\n",
      "iteration =  814, loss = 0.00463\n",
      "iteration =  815, loss = 0.00462\n",
      "iteration =  816, loss = 0.00462\n",
      "iteration =  817, loss = 0.00461\n",
      "iteration =  818, loss = 0.00460\n",
      "iteration =  819, loss = 0.00460\n",
      "iteration =  820, loss = 0.00459\n",
      "iteration =  821, loss = 0.00459\n",
      "iteration =  822, loss = 0.00458\n",
      "iteration =  823, loss = 0.00458\n",
      "iteration =  824, loss = 0.00457\n",
      "iteration =  825, loss = 0.00456\n",
      "iteration =  826, loss = 0.00456\n",
      "iteration =  827, loss = 0.00455\n",
      "iteration =  828, loss = 0.00455\n",
      "iteration =  829, loss = 0.00454\n",
      "iteration =  830, loss = 0.00454\n",
      "iteration =  831, loss = 0.00453\n",
      "iteration =  832, loss = 0.00453\n",
      "iteration =  833, loss = 0.00452\n",
      "iteration =  834, loss = 0.00452\n",
      "iteration =  835, loss = 0.00451\n",
      "iteration =  836, loss = 0.00450\n",
      "iteration =  837, loss = 0.00450\n",
      "iteration =  838, loss = 0.00449\n",
      "iteration =  839, loss = 0.00449\n",
      "iteration =  840, loss = 0.00448\n",
      "iteration =  841, loss = 0.00448\n",
      "iteration =  842, loss = 0.00447\n",
      "iteration =  843, loss = 0.00447\n",
      "iteration =  844, loss = 0.00446\n",
      "iteration =  845, loss = 0.00446\n",
      "iteration =  846, loss = 0.00445\n",
      "iteration =  847, loss = 0.00445\n",
      "iteration =  848, loss = 0.00444\n",
      "iteration =  849, loss = 0.00443\n",
      "iteration =  850, loss = 0.00443\n",
      "iteration =  851, loss = 0.00442\n",
      "iteration =  852, loss = 0.00442\n",
      "iteration =  853, loss = 0.00441\n",
      "iteration =  854, loss = 0.00441\n",
      "iteration =  855, loss = 0.00440\n",
      "iteration =  856, loss = 0.00440\n",
      "iteration =  857, loss = 0.00439\n",
      "iteration =  858, loss = 0.00439\n",
      "iteration =  859, loss = 0.00438\n",
      "iteration =  860, loss = 0.00438\n",
      "iteration =  861, loss = 0.00437\n",
      "iteration =  862, loss = 0.00437\n",
      "iteration =  863, loss = 0.00436\n",
      "iteration =  864, loss = 0.00436\n",
      "iteration =  865, loss = 0.00435\n",
      "iteration =  866, loss = 0.00435\n",
      "iteration =  867, loss = 0.00434\n",
      "iteration =  868, loss = 0.00434\n",
      "iteration =  869, loss = 0.00433\n",
      "iteration =  870, loss = 0.00433\n",
      "iteration =  871, loss = 0.00432\n",
      "iteration =  872, loss = 0.00432\n",
      "iteration =  873, loss = 0.00431\n",
      "iteration =  874, loss = 0.00431\n",
      "iteration =  875, loss = 0.00430\n",
      "iteration =  876, loss = 0.00430\n",
      "iteration =  877, loss = 0.00429\n",
      "iteration =  878, loss = 0.00429\n",
      "iteration =  879, loss = 0.00428\n",
      "iteration =  880, loss = 0.00428\n",
      "iteration =  881, loss = 0.00427\n",
      "iteration =  882, loss = 0.00427\n",
      "iteration =  883, loss = 0.00426\n",
      "iteration =  884, loss = 0.00426\n",
      "iteration =  885, loss = 0.00425\n",
      "iteration =  886, loss = 0.00425\n",
      "iteration =  887, loss = 0.00424\n",
      "iteration =  888, loss = 0.00424\n",
      "iteration =  889, loss = 0.00423\n",
      "iteration =  890, loss = 0.00423\n",
      "iteration =  891, loss = 0.00422\n",
      "iteration =  892, loss = 0.00422\n",
      "iteration =  893, loss = 0.00421\n",
      "iteration =  894, loss = 0.00421\n",
      "iteration =  895, loss = 0.00420\n",
      "iteration =  896, loss = 0.00420\n",
      "iteration =  897, loss = 0.00420\n",
      "iteration =  898, loss = 0.00419\n",
      "iteration =  899, loss = 0.00419\n",
      "iteration =  900, loss = 0.00418\n",
      "iteration =  901, loss = 0.00418\n",
      "iteration =  902, loss = 0.00417\n",
      "iteration =  903, loss = 0.00417\n",
      "iteration =  904, loss = 0.00416\n",
      "iteration =  905, loss = 0.00416\n",
      "iteration =  906, loss = 0.00415\n",
      "iteration =  907, loss = 0.00415\n",
      "iteration =  908, loss = 0.00414\n",
      "iteration =  909, loss = 0.00414\n",
      "iteration =  910, loss = 0.00413\n",
      "iteration =  911, loss = 0.00413\n",
      "iteration =  912, loss = 0.00413\n",
      "iteration =  913, loss = 0.00412\n",
      "iteration =  914, loss = 0.00412\n",
      "iteration =  915, loss = 0.00411\n",
      "iteration =  916, loss = 0.00411\n",
      "iteration =  917, loss = 0.00410\n",
      "iteration =  918, loss = 0.00410\n",
      "iteration =  919, loss = 0.00409\n",
      "iteration =  920, loss = 0.00409\n",
      "iteration =  921, loss = 0.00408\n",
      "iteration =  922, loss = 0.00408\n",
      "iteration =  923, loss = 0.00408\n",
      "iteration =  924, loss = 0.00407\n",
      "iteration =  925, loss = 0.00407\n",
      "iteration =  926, loss = 0.00406\n",
      "iteration =  927, loss = 0.00406\n",
      "iteration =  928, loss = 0.00405\n",
      "iteration =  929, loss = 0.00405\n",
      "iteration =  930, loss = 0.00404\n",
      "iteration =  931, loss = 0.00404\n",
      "iteration =  932, loss = 0.00404\n",
      "iteration =  933, loss = 0.00403\n",
      "iteration =  934, loss = 0.00403\n",
      "iteration =  935, loss = 0.00402\n",
      "iteration =  936, loss = 0.00402\n",
      "iteration =  937, loss = 0.00401\n",
      "iteration =  938, loss = 0.00401\n",
      "iteration =  939, loss = 0.00401\n",
      "iteration =  940, loss = 0.00400\n",
      "iteration =  941, loss = 0.00400\n",
      "iteration =  942, loss = 0.00399\n",
      "iteration =  943, loss = 0.00399\n",
      "iteration =  944, loss = 0.00398\n",
      "iteration =  945, loss = 0.00398\n",
      "iteration =  946, loss = 0.00398\n",
      "iteration =  947, loss = 0.00397\n",
      "iteration =  948, loss = 0.00397\n",
      "iteration =  949, loss = 0.00396\n",
      "iteration =  950, loss = 0.00396\n",
      "iteration =  951, loss = 0.00395\n",
      "iteration =  952, loss = 0.00395\n",
      "iteration =  953, loss = 0.00395\n",
      "iteration =  954, loss = 0.00394\n",
      "iteration =  955, loss = 0.00394\n",
      "iteration =  956, loss = 0.00393\n",
      "iteration =  957, loss = 0.00393\n",
      "iteration =  958, loss = 0.00393\n",
      "iteration =  959, loss = 0.00392\n",
      "iteration =  960, loss = 0.00392\n",
      "iteration =  961, loss = 0.00391\n",
      "iteration =  962, loss = 0.00391\n",
      "iteration =  963, loss = 0.00390\n",
      "iteration =  964, loss = 0.00390\n",
      "iteration =  965, loss = 0.00390\n",
      "iteration =  966, loss = 0.00389\n",
      "iteration =  967, loss = 0.00389\n",
      "iteration =  968, loss = 0.00388\n",
      "iteration =  969, loss = 0.00388\n",
      "iteration =  970, loss = 0.00388\n",
      "iteration =  971, loss = 0.00387\n",
      "iteration =  972, loss = 0.00387\n",
      "iteration =  973, loss = 0.00386\n",
      "iteration =  974, loss = 0.00386\n",
      "iteration =  975, loss = 0.00386\n",
      "iteration =  976, loss = 0.00385\n",
      "iteration =  977, loss = 0.00385\n",
      "iteration =  978, loss = 0.00384\n",
      "iteration =  979, loss = 0.00384\n",
      "iteration =  980, loss = 0.00384\n",
      "iteration =  981, loss = 0.00383\n",
      "iteration =  982, loss = 0.00383\n",
      "iteration =  983, loss = 0.00382\n",
      "iteration =  984, loss = 0.00382\n",
      "iteration =  985, loss = 0.00382\n",
      "iteration =  986, loss = 0.00381\n",
      "iteration =  987, loss = 0.00381\n",
      "iteration =  988, loss = 0.00381\n",
      "iteration =  989, loss = 0.00380\n",
      "iteration =  990, loss = 0.00380\n",
      "iteration =  991, loss = 0.00379\n",
      "iteration =  992, loss = 0.00379\n",
      "iteration =  993, loss = 0.00379\n",
      "iteration =  994, loss = 0.00378\n",
      "iteration =  995, loss = 0.00378\n",
      "iteration =  996, loss = 0.00377\n",
      "iteration =  997, loss = 0.00377\n",
      "iteration =  998, loss = 0.00377\n",
      "iteration =  999, loss = 0.00376\n"
     ]
    }
   ],
   "metadata": {
    "tags": []
   }
  },
  {
   "cell_type": "markdown",
   "source": [
    "## [git commit # 06] % git commit -a -m \"complete the function for the gradient descent\""
   ],
   "metadata": {}
  },
  {
   "cell_type": "markdown",
   "source": [
    "## plot learning curve"
   ],
   "metadata": {}
  },
  {
   "cell_type": "code",
   "execution_count": 19,
   "source": [
    "def plot_curve(title, data):\n",
    "\n",
    "    plt.figure(figsize=(8, 6))\n",
    "    plt.title(title)\n",
    "\n",
    "    plt.plot(data, '-', color='red')\n",
    "    plt.xlabel('iteration')\n",
    "    plt.ylabel('loss')\n",
    "\n",
    "    plt.tight_layout()\n",
    "    plt.show()"
   ],
   "outputs": [],
   "metadata": {}
  },
  {
   "cell_type": "code",
   "execution_count": 20,
   "source": [
    "plot_curve('loss', loss_iteration)"
   ],
   "outputs": [
    {
     "output_type": "display_data",
     "data": {
      "image/png": "[encoded data removed]",
      "text/plain": [
       "<Figure size 576x432 with 1 Axes>"
      ]
     },
     "metadata": {
      "needs_background": "light"
     }
    }
   ],
   "metadata": {}
  },
  {
   "cell_type": "markdown",
   "source": [
    "## plot prediction values"
   ],
   "metadata": {}
  },
  {
   "cell_type": "code",
   "execution_count": 21,
   "source": [
    "def plot_curve2(title, data1, label1, data2, label2):\n",
    "\n",
    "\n",
    "    fig = plt.figure(figsize=(8,6))\n",
    "    plt.title(title)\n",
    "\n",
    "    plt.plot(data1, '-', color='blue', label=label1)\n",
    "    plt.plot(data2, '-', color='red', label=label2)\n",
    "    plt.legend()\n",
    "    plt.tight_layout()\n",
    "\n",
    "    plt.show()"
   ],
   "outputs": [],
   "metadata": {}
  },
  {
   "cell_type": "code",
   "execution_count": 22,
   "source": [
    "plot_curve2('prediction', pred_0_iteration, 'im 0', pred_1_iteration, 'im 1')"
   ],
   "outputs": [
    {
     "output_type": "display_data",
     "data": {
      "image/png": "[encoded data removed]",
      "text/plain": [
       "<Figure size 576x432 with 1 Axes>"
      ]
     },
     "metadata": {
      "needs_background": "light"
     }
    }
   ],
   "metadata": {}
  },
  {
   "cell_type": "markdown",
   "source": [
    "## given iterations at which the values are presented"
   ],
   "metadata": {}
  },
  {
   "cell_type": "code",
   "execution_count": 23,
   "source": [
    "iter0   = 0\n",
    "iter1   = 100\n",
    "iter2   = 200\n",
    "iter3   = 300\n",
    "iter4   = 400\n",
    "iter5   = 500\n",
    "iter6   = 600\n",
    "iter7   = 700\n",
    "iter8   = 800\n",
    "iter9   = 900\n"
   ],
   "outputs": [],
   "metadata": {}
  },
  {
   "cell_type": "markdown",
   "source": [
    "## loss values"
   ],
   "metadata": {}
  },
  {
   "cell_type": "code",
   "execution_count": 24,
   "source": [
    "print('iteration = %4d, loss = %12.10f' % (iter0, loss_iteration[iter0]))\n",
    "print('iteration = %4d, loss = %12.10f' % (iter1, loss_iteration[iter1]))\n",
    "print('iteration = %4d, loss = %12.10f' % (iter2, loss_iteration[iter2]))\n",
    "print('iteration = %4d, loss = %12.10f' % (iter3, loss_iteration[iter3]))\n",
    "print('iteration = %4d, loss = %12.10f' % (iter4, loss_iteration[iter4]))\n",
    "print('iteration = %4d, loss = %12.10f' % (iter5, loss_iteration[iter5]))\n",
    "print('iteration = %4d, loss = %12.10f' % (iter6, loss_iteration[iter6]))\n",
    "print('iteration = %4d, loss = %12.10f' % (iter7, loss_iteration[iter7]))\n",
    "print('iteration = %4d, loss = %12.10f' % (iter8, loss_iteration[iter8]))\n",
    "print('iteration = %4d, loss = %12.10f' % (iter9, loss_iteration[iter9]))"
   ],
   "outputs": [
    {
     "output_type": "stream",
     "name": "stdout",
     "text": [
      "iteration =    0, loss = 0.6329350216\n",
      "iteration =  100, loss = 0.0387987005\n",
      "iteration =  200, loss = 0.0192110507\n",
      "iteration =  300, loss = 0.0127217113\n",
      "iteration =  400, loss = 0.0094994077\n",
      "iteration =  500, loss = 0.0075760710\n",
      "iteration =  600, loss = 0.0062989058\n",
      "iteration =  700, loss = 0.0053894604\n",
      "iteration =  800, loss = 0.0047090685\n",
      "iteration =  900, loss = 0.0041809548\n"
     ]
    }
   ],
   "metadata": {}
  },
  {
   "cell_type": "markdown",
   "source": [
    "## prediction values for im_0"
   ],
   "metadata": {}
  },
  {
   "cell_type": "code",
   "execution_count": 25,
   "source": [
    "print('iteration = %4d, pred im0 = %12.10f' % (iter0, pred_0_iteration[iter0]))\n",
    "print('iteration = %4d, pred im0 = %12.10f' % (iter1, pred_0_iteration[iter1]))\n",
    "print('iteration = %4d, pred im0 = %12.10f' % (iter2, pred_0_iteration[iter2]))\n",
    "print('iteration = %4d, pred im0 = %12.10f' % (iter3, pred_0_iteration[iter3]))\n",
    "print('iteration = %4d, pred im0 = %12.10f' % (iter4, pred_0_iteration[iter4]))\n",
    "print('iteration = %4d, pred im0 = %12.10f' % (iter5, pred_0_iteration[iter5]))\n",
    "print('iteration = %4d, pred im0 = %12.10f' % (iter6, pred_0_iteration[iter6]))\n",
    "print('iteration = %4d, pred im0 = %12.10f' % (iter7, pred_0_iteration[iter7]))\n",
    "print('iteration = %4d, pred im0 = %12.10f' % (iter8, pred_0_iteration[iter8]))\n",
    "print('iteration = %4d, pred im0 = %12.10f' % (iter9, pred_0_iteration[iter9]))"
   ],
   "outputs": [
    {
     "output_type": "stream",
     "name": "stdout",
     "text": [
      "iteration =    0, pred im0 = 0.4751157638\n",
      "iteration =  100, pred im0 = 0.0294013919\n",
      "iteration =  200, pred im0 = 0.0147619719\n",
      "iteration =  300, pred im0 = 0.0098246200\n",
      "iteration =  400, pred im0 = 0.0073549633\n",
      "iteration =  500, pred im0 = 0.0058749365\n",
      "iteration =  600, pred im0 = 0.0048896397\n",
      "iteration =  700, pred im0 = 0.0041867921\n",
      "iteration =  800, pred im0 = 0.0036602851\n",
      "iteration =  900, pred im0 = 0.0032512118\n"
     ]
    }
   ],
   "metadata": {}
  },
  {
   "cell_type": "markdown",
   "source": [
    "## prediction values for im_1"
   ],
   "metadata": {}
  },
  {
   "cell_type": "code",
   "execution_count": 26,
   "source": [
    "print('iteration = %4d, pred im1 = %12.10f' % (iter0, pred_1_iteration[iter0]))\n",
    "print('iteration = %4d, pred im1 = %12.10f' % (iter1, pred_1_iteration[iter1]))\n",
    "print('iteration = %4d, pred im1 = %12.10f' % (iter2, pred_1_iteration[iter2]))\n",
    "print('iteration = %4d, pred im1 = %12.10f' % (iter3, pred_1_iteration[iter3]))\n",
    "print('iteration = %4d, pred im1 = %12.10f' % (iter4, pred_1_iteration[iter4]))\n",
    "print('iteration = %4d, pred im1 = %12.10f' % (iter5, pred_1_iteration[iter5]))\n",
    "print('iteration = %4d, pred im1 = %12.10f' % (iter6, pred_1_iteration[iter6]))\n",
    "print('iteration = %4d, pred im1 = %12.10f' % (iter7, pred_1_iteration[iter7]))\n",
    "print('iteration = %4d, pred im1 = %12.10f' % (iter8, pred_1_iteration[iter8]))\n",
    "print('iteration = %4d, pred im1 = %12.10f' % (iter9, pred_1_iteration[iter9]))"
   ],
   "outputs": [
    {
     "output_type": "stream",
     "name": "stdout",
     "text": [
      "iteration =    0, pred im1 = 0.5372495936\n",
      "iteration =  100, pred im1 = 0.9533672143\n",
      "iteration =  200, pred im1 = 0.9767250520\n",
      "iteration =  300, pred im1 = 0.9845503666\n",
      "iteration =  400, pred im1 = 0.9884505421\n",
      "iteration =  500, pred im1 = 0.9907828605\n",
      "iteration =  600, pred im1 = 0.9923333612\n",
      "iteration =  700, pred im1 = 0.9934382832\n",
      "iteration =  800, pred im1 = 0.9942653695\n",
      "iteration =  900, pred im1 = 0.9949076094\n"
     ]
    }
   ],
   "metadata": {}
  },
  {
   "cell_type": "code",
   "execution_count": 27,
   "source": [
    "def function_result_01(title1,data1,title2,data2):\n",
    "\n",
    "    fig = plt.figure(figsize=(8,4))\n",
    "\n",
    "    rows = 1\n",
    "    cols = 2\n",
    "\n",
    "    ax1 = fig.add_subplot(rows, cols, 1)\n",
    "    ax1.set_title(title1)\n",
    "    ax1.imshow(data1, cmap='gray', vmin=0, vmax=1)\n",
    "\n",
    "    ax2 = fig.add_subplot(rows, cols, 2)\n",
    "    ax2.set_title(title2)\n",
    "    ax2.imshow(data2, cmap='gray', vmin=0, vmax=1)\n",
    "\n",
    "    plt.tight_layout()\n",
    "    plt.show()"
   ],
   "outputs": [],
   "metadata": {}
  },
  {
   "cell_type": "code",
   "execution_count": 28,
   "source": [
    "function_result_01(\"label: 0\",im_0,\"label: 1\",im_1)"
   ],
   "outputs": [
    {
     "output_type": "display_data",
     "data": {
      "image/png": "[encoded data removed]",
      "text/plain": [
       "<Figure size 576x288 with 2 Axes>"
      ]
     },
     "metadata": {
      "needs_background": "light"
     }
    }
   ],
   "metadata": {}
  },
  {
   "cell_type": "markdown",
   "source": [
    "## [git commit # 07] % git commit -a -m \"complete the function for the function result 01\""
   ],
   "metadata": {}
  },
  {
   "cell_type": "code",
   "execution_count": 29,
   "source": [
    "def function_result_02(title,data):\n",
    "    \n",
    "    plt.figure(figsize=(8, 6))\n",
    "    plt.title(title)\n",
    "\n",
    "    plt.plot(data, '-', color='red')\n",
    "    plt.xlabel('iteration')\n",
    "    plt.ylabel('loss')\n",
    "\n",
    "    plt.tight_layout()\n",
    "    plt.show()"
   ],
   "outputs": [],
   "metadata": {}
  },
  {
   "cell_type": "code",
   "execution_count": 30,
   "source": [
    "function_result_02('loss',loss_iteration)"
   ],
   "outputs": [
    {
     "output_type": "display_data",
     "data": {
      "image/png": "[encoded data removed]",
      "text/plain": [
       "<Figure size 576x432 with 1 Axes>"
      ]
     },
     "metadata": {
      "needs_background": "light"
     }
    }
   ],
   "metadata": {}
  },
  {
   "cell_type": "markdown",
   "source": [
    "## [git commit # 08] % git commit -a -m \"complete the function for the function result 02\""
   ],
   "metadata": {}
  },
  {
   "cell_type": "code",
   "execution_count": 33,
   "source": [
    "def function_result_03(title,data):\n",
    "    \n",
    "    plt.figure(figsize=(8, 6))\n",
    "    plt.title(title)\n",
    "\n",
    "    plt.plot(data, '-', color='red')\n",
    "    plt.xlabel('iteration')\n",
    "    plt.ylabel('prediction')\n",
    "\n",
    "    plt.tight_layout()\n",
    "    plt.show()"
   ],
   "outputs": [],
   "metadata": {}
  },
  {
   "cell_type": "code",
   "execution_count": 34,
   "source": [
    "function_result_03('prediction for image 0',pred_0_iteration)"
   ],
   "outputs": [
    {
     "output_type": "display_data",
     "data": {
      "image/png": "[encoded data removed]",
      "text/plain": [
       "<Figure size 576x432 with 1 Axes>"
      ]
     },
     "metadata": {
      "needs_background": "light"
     }
    }
   ],
   "metadata": {}
  },
  {
   "cell_type": "markdown",
   "source": [
    "## [git commit # 09] % git commit -a -m \"complete the function for the function result 03\""
   ],
   "metadata": {}
  },
  {
   "cell_type": "code",
   "execution_count": 36,
   "source": [
    "def function_result_04(title,data):\n",
    "\n",
    "    plt.figure(figsize=(8, 6))\n",
    "    plt.title(title)\n",
    "\n",
    "    plt.plot(data, '-', color='red')\n",
    "    plt.xlabel('iteration')\n",
    "    plt.ylabel('prediction')\n",
    "\n",
    "    plt.tight_layout()\n",
    "    plt.show()"
   ],
   "outputs": [],
   "metadata": {}
  },
  {
   "cell_type": "code",
   "execution_count": 37,
   "source": [
    "function_result_04('prediction for image 1',pred_1_iteration)"
   ],
   "outputs": [
    {
     "output_type": "display_data",
     "data": {
      "image/png": "[encoded data removed]",
      "text/plain": [
       "<Figure size 576x432 with 1 Axes>"
      ]
     },
     "metadata": {
      "needs_background": "light"
     }
    }
   ],
   "metadata": {}
  },
  {
   "cell_type": "markdown",
   "source": [
    "## [git commit # 10] % git commit -a -m \"complete the function for the function result 04\""
   ],
   "metadata": {}
  },
  {
   "cell_type": "code",
   "execution_count": 38,
   "source": [
    "def function_result_05(data):\n",
    "    iter_data = [0,100,200,300,400,500,600,700,800,900]\n",
    "\n",
    "    for i in iter_data:\n",
    "        print('iteration = %4d, loss = %12.10f' % (i, data[i]))"
   ],
   "outputs": [],
   "metadata": {}
  },
  {
   "cell_type": "code",
   "execution_count": 39,
   "source": [
    "function_result_05(loss_iteration)"
   ],
   "outputs": [
    {
     "output_type": "stream",
     "name": "stdout",
     "text": [
      "iteration =    0, loss = 0.6329350216\n",
      "iteration =  100, loss = 0.0387987005\n",
      "iteration =  200, loss = 0.0192110507\n",
      "iteration =  300, loss = 0.0127217113\n",
      "iteration =  400, loss = 0.0094994077\n",
      "iteration =  500, loss = 0.0075760710\n",
      "iteration =  600, loss = 0.0062989058\n",
      "iteration =  700, loss = 0.0053894604\n",
      "iteration =  800, loss = 0.0047090685\n",
      "iteration =  900, loss = 0.0041809548\n"
     ]
    }
   ],
   "metadata": {}
  },
  {
   "cell_type": "markdown",
   "source": [
    "## [git commit # 11] % git commit -a -m \"complete the function for the function result 05\""
   ],
   "metadata": {}
  },
  {
   "cell_type": "code",
   "execution_count": 40,
   "source": [
    "def function_result_06(data):\n",
    "    iter_data = [0,100,200,300,400,500,600,700,800,900]\n",
    "\n",
    "    for i in iter_data:\n",
    "        print('iteration = %4d, pred im0 = %12.10f' % (i, data[i]))"
   ],
   "outputs": [],
   "metadata": {}
  },
  {
   "cell_type": "code",
   "execution_count": 41,
   "source": [
    "function_result_06(pred_0_iteration)"
   ],
   "outputs": [
    {
     "output_type": "stream",
     "name": "stdout",
     "text": [
      "iteration =    0, pred im0 = 0.4751157638\n",
      "iteration =  100, pred im0 = 0.0294013919\n",
      "iteration =  200, pred im0 = 0.0147619719\n",
      "iteration =  300, pred im0 = 0.0098246200\n",
      "iteration =  400, pred im0 = 0.0073549633\n",
      "iteration =  500, pred im0 = 0.0058749365\n",
      "iteration =  600, pred im0 = 0.0048896397\n",
      "iteration =  700, pred im0 = 0.0041867921\n",
      "iteration =  800, pred im0 = 0.0036602851\n",
      "iteration =  900, pred im0 = 0.0032512118\n"
     ]
    }
   ],
   "metadata": {}
  },
  {
   "cell_type": "markdown",
   "source": [
    "## [git commit # 12] % git commit -a -m \"complete the function for the function result 06\""
   ],
   "metadata": {}
  },
  {
   "cell_type": "code",
   "execution_count": 42,
   "source": [
    "def function_result_07(data):\n",
    "    iter_data = [0,100,200,300,400,500,600,700,800,900]\n",
    "\n",
    "    for i in iter_data:\n",
    "        print('iteration = %4d, pred im1 = %12.10f' % (i, data[i]))"
   ],
   "outputs": [],
   "metadata": {}
  },
  {
   "cell_type": "code",
   "execution_count": 43,
   "source": [
    "function_result_07(pred_1_iteration)"
   ],
   "outputs": [
    {
     "output_type": "stream",
     "name": "stdout",
     "text": [
      "iteration =    0, pred im1 = 0.5372495936\n",
      "iteration =  100, pred im1 = 0.9533672143\n",
      "iteration =  200, pred im1 = 0.9767250520\n",
      "iteration =  300, pred im1 = 0.9845503666\n",
      "iteration =  400, pred im1 = 0.9884505421\n",
      "iteration =  500, pred im1 = 0.9907828605\n",
      "iteration =  600, pred im1 = 0.9923333612\n",
      "iteration =  700, pred im1 = 0.9934382832\n",
      "iteration =  800, pred im1 = 0.9942653695\n",
      "iteration =  900, pred im1 = 0.9949076094\n"
     ]
    }
   ],
   "metadata": {}
  },
  {
   "cell_type": "markdown",
   "source": [
    "## [git commit # 13] % git commit -a -m \"complete the function for the function result 07\""
   ],
   "metadata": {}
  },
  {
   "cell_type": "markdown",
   "source": [
    "---"
   ],
   "metadata": {}
  },
  {
   "cell_type": "markdown",
   "source": [
    "# RESULTS"
   ],
   "metadata": {}
  },
  {
   "cell_type": "markdown",
   "source": [
    "---"
   ],
   "metadata": {}
  },
  {
   "cell_type": "markdown",
   "source": [
    "## # 01. plot the input images (left: image 0, right: image 1)"
   ],
   "metadata": {}
  },
  {
   "cell_type": "code",
   "execution_count": 44,
   "source": [
    "function_result_01(\"label: 0\",im_0,\"label: 1\",im_1)"
   ],
   "outputs": [
    {
     "output_type": "display_data",
     "data": {
      "image/png": "[encoded data removed]",
      "text/plain": [
       "<Figure size 576x288 with 2 Axes>"
      ]
     },
     "metadata": {
      "needs_background": "light"
     }
    }
   ],
   "metadata": {}
  },
  {
   "cell_type": "markdown",
   "source": [
    "## # 02. plot the loss curve (x-axis: iteration, y-axis: loss)"
   ],
   "metadata": {}
  },
  {
   "cell_type": "code",
   "execution_count": 45,
   "source": [
    "function_result_02('loss',loss_iteration)"
   ],
   "outputs": [
    {
     "output_type": "display_data",
     "data": {
      "image/png": "[encoded data removed]",
      "text/plain": [
       "<Figure size 576x432 with 1 Axes>"
      ]
     },
     "metadata": {
      "needs_background": "light"
     }
    }
   ],
   "metadata": {}
  },
  {
   "cell_type": "markdown",
   "source": [
    "## # 03. plot the prediction value for image 0 (x-axis: iteration, y-axis: prediction)"
   ],
   "metadata": {}
  },
  {
   "cell_type": "code",
   "execution_count": 46,
   "source": [
    "function_result_03('prediction for image 0',pred_0_iteration)"
   ],
   "outputs": [
    {
     "output_type": "display_data",
     "data": {
      "image/png": "[encoded data removed]",
      "text/plain": [
       "<Figure size 576x432 with 1 Axes>"
      ]
     },
     "metadata": {
      "needs_background": "light"
     }
    }
   ],
   "metadata": {}
  },
  {
   "cell_type": "markdown",
   "source": [
    "## # 04. plot the prediction value for image 1 (x-axis: iteration, y-axis: prediction)"
   ],
   "metadata": {}
  },
  {
   "cell_type": "code",
   "execution_count": 47,
   "source": [
    "function_result_04('prediction for image 1',pred_1_iteration)"
   ],
   "outputs": [
    {
     "output_type": "display_data",
     "data": {
      "image/png": "[encoded data removed]",
      "text/plain": [
       "<Figure size 576x432 with 1 Axes>"
      ]
     },
     "metadata": {
      "needs_background": "light"
     }
    }
   ],
   "metadata": {}
  },
  {
   "cell_type": "markdown",
   "source": [
    "## # 05. print the loss values at iterations 0, 100, 200, 300, 400, 500, 600, 700, 800, 900"
   ],
   "metadata": {}
  },
  {
   "cell_type": "code",
   "execution_count": 48,
   "source": [
    "function_result_05(loss_iteration)"
   ],
   "outputs": [
    {
     "output_type": "stream",
     "name": "stdout",
     "text": [
      "iteration =    0, loss = 0.6329350216\n",
      "iteration =  100, loss = 0.0387987005\n",
      "iteration =  200, loss = 0.0192110507\n",
      "iteration =  300, loss = 0.0127217113\n",
      "iteration =  400, loss = 0.0094994077\n",
      "iteration =  500, loss = 0.0075760710\n",
      "iteration =  600, loss = 0.0062989058\n",
      "iteration =  700, loss = 0.0053894604\n",
      "iteration =  800, loss = 0.0047090685\n",
      "iteration =  900, loss = 0.0041809548\n"
     ]
    }
   ],
   "metadata": {}
  },
  {
   "cell_type": "markdown",
   "source": [
    "## # 06. print the prediction values for image 0 at iterations 0, 100, 200, 300, 400, 500, 600, 700, 800, 900"
   ],
   "metadata": {}
  },
  {
   "cell_type": "code",
   "execution_count": 49,
   "source": [
    "function_result_06(pred_0_iteration)"
   ],
   "outputs": [
    {
     "output_type": "stream",
     "name": "stdout",
     "text": [
      "iteration =    0, pred im0 = 0.4751157638\n",
      "iteration =  100, pred im0 = 0.0294013919\n",
      "iteration =  200, pred im0 = 0.0147619719\n",
      "iteration =  300, pred im0 = 0.0098246200\n",
      "iteration =  400, pred im0 = 0.0073549633\n",
      "iteration =  500, pred im0 = 0.0058749365\n",
      "iteration =  600, pred im0 = 0.0048896397\n",
      "iteration =  700, pred im0 = 0.0041867921\n",
      "iteration =  800, pred im0 = 0.0036602851\n",
      "iteration =  900, pred im0 = 0.0032512118\n"
     ]
    }
   ],
   "metadata": {}
  },
  {
   "cell_type": "markdown",
   "source": [
    "## # 07. print the prediction values for image 1 at iterations 0, 100, 200, 300, 400, 500, 600, 700, 800, 900"
   ],
   "metadata": {}
  },
  {
   "cell_type": "code",
   "execution_count": 50,
   "source": [
    "function_result_07(pred_1_iteration)"
   ],
   "outputs": [
    {
     "output_type": "stream",
     "name": "stdout",
     "text": [
      "iteration =    0, pred im1 = 0.5372495936\n",
      "iteration =  100, pred im1 = 0.9533672143\n",
      "iteration =  200, pred im1 = 0.9767250520\n",
      "iteration =  300, pred im1 = 0.9845503666\n",
      "iteration =  400, pred im1 = 0.9884505421\n",
      "iteration =  500, pred im1 = 0.9907828605\n",
      "iteration =  600, pred im1 = 0.9923333612\n",
      "iteration =  700, pred im1 = 0.9934382832\n",
      "iteration =  800, pred im1 = 0.9942653695\n",
      "iteration =  900, pred im1 = 0.9949076094\n"
     ]
    }
   ],
   "metadata": {}
  },
  {
   "cell_type": "code",
   "execution_count": null,
   "source": [],
   "outputs": [],
   "metadata": {}
  }
 ],
 "metadata": {
  "colab": {
   "authorship_tag": "ABX9TyM0gXqiryv5831mXd12OejK",
   "collapsed_sections": [],
   "name": "assignment_02.ipynb",
   "provenance": []
  },
  "interpreter": {
   "hash": "aee8b7b246df8f9039afb4144a1f6fd8d2ca17a180786b69acc140d282b71a49"
  },
  "kernelspec": {
   "name": "python3",
   "display_name": "Python 3.9.5 64-bit"
  },
  "language_info": {
   "codemirror_mode": {
    "name": "ipython",
    "version": 3
   },
   "file_extension": ".py",
   "mimetype": "text/x-python",
   "name": "python",
   "nbconvert_exporter": "python",
   "pygments_lexer": "ipython3",
   "version": "3.9.5"
  }
 },
 "nbformat": 4,
 "nbformat_minor": 2
}